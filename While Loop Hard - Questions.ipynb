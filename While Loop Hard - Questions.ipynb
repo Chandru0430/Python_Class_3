{
 "cells": [
  {
   "cell_type": "markdown",
   "metadata": {},
   "source": [
    "# While Loop Hard Questions"
   ]
  },
  {
   "cell_type": "code",
   "execution_count": 1,
   "metadata": {},
   "outputs": [
    {
     "name": "stdout",
     "output_type": "stream",
     "text": [
      "12\n",
      "255\n"
     ]
    }
   ],
   "source": [
    "# 1. Write a Python program to find the least common multiple (LCM) of two given integers.\n",
    "#     Data:\n",
    "#         lcm(4, 6)\n",
    "#         lcm(15, 17)\n",
    "#     Expected Output:\n",
    "#         12\n",
    "#         255\n",
    "\n",
    "def gcd(a, b):\n",
    "    a, b = abs(a), abs(b)\n",
    "    while b:\n",
    "        a, b = b, a % b\n",
    "    return a\n",
    "def lcm(a, b):\n",
    "    if a == 0 or b == 0:\n",
    "        return 0\n",
    "    return abs(a * b) // gcd(a, b)\n",
    "\n",
    "print(lcm(4, 6))    \n",
    "print(lcm(15, 17))\n",
    "        \n",
    "        \n",
    "        \n",
    "        "
   ]
  },
  {
   "cell_type": "code",
   "execution_count": 2,
   "metadata": {},
   "outputs": [
    {
     "name": "stdin",
     "output_type": "stream",
     "text": [
      "Enter a positive integer:  3\n"
     ]
    },
    {
     "name": "stdout",
     "output_type": "stream",
     "text": [
      "Sum of cubes: 9\n"
     ]
    }
   ],
   "source": [
    "# 2. Write a Python function that takes a positive integer and returns the sum of the cube of all the positive integers \n",
    "#    smaller than the specified number.\n",
    "#     Data:\n",
    "#         3\n",
    "#     Expected Output:\n",
    "#         Sum of cubes:  9\n",
    "\n",
    "def sum_of_cubes(n):\n",
    "    return sum(i**3 for i in range(1, n))\n",
    "if __name__ == \"__main__\":\n",
    "\n",
    "    num = int(input(\"Enter a positive integer: \"))\n",
    "    result = sum_of_cubes(num)\n",
    "    print(\"Sum of cubes:\", result)\n",
    "            \n",
    "            \n",
    "            \n",
    "            "
   ]
  },
  {
   "cell_type": "code",
   "execution_count": 3,
   "metadata": {},
   "outputs": [
    {
     "name": "stdout",
     "output_type": "stream",
     "text": [
      "30\n",
      "60\n",
      "90\n",
      "40\n",
      "80\n",
      "50\n",
      "20\n",
      "70\n",
      "10\n"
     ]
    }
   ],
   "source": [
    "# 3. Write a Python program to remove and print every third number from a list of numbers until the list becomes empty.\n",
    "#     Data:\n",
    "#         nums = [10,20,30,40,50,60,70,80,90]\n",
    "#     Expected Output:\n",
    "#         30\n",
    "#         60\n",
    "#         90\n",
    "#         40\n",
    "#         80\n",
    "#         50\n",
    "#         20\n",
    "#         70\n",
    "#         10\n",
    "\n",
    "def remove_and_print_every_third(nums):\n",
    "    idx = 0\n",
    "    while nums:\n",
    "        idx = (idx + 2) % len(nums)\n",
    "        print(nums.pop(idx))\n",
    "\n",
    "if __name__ == \"__main__\":\n",
    "    nums = [10, 20, 30, 40, 50, 60, 70, 80, 90]\n",
    "    remove_and_print_every_third(nums)\n",
    "        \n",
    "        \n",
    "        "
   ]
  },
  {
   "cell_type": "code",
   "execution_count": 5,
   "metadata": {},
   "outputs": [
    {
     "name": "stdout",
     "output_type": "stream",
     "text": [
      "[(-6, 2, 4), (-2, 0, 2), (-1, 0, 1)]\n"
     ]
    }
   ],
   "source": [
    "# 4. Write a Python program to find unique triplets whose three elements gives the sum of zero from an array of n integers.\n",
    "#     Data:\n",
    "#         x = [1, -6, 4, 2, -1, 2, 0, -2, 0 ]\n",
    "#     Expected Output:\n",
    "#         [(-6, 2, 4)]\n",
    "\n",
    "def three_sum(nums):\n",
    "    nums.sort()\n",
    "    result = []\n",
    "    n = len(nums)\n",
    "\n",
    "    for i in range(n - 2):\n",
    "        if i > 0 and nums[i] == nums[i - 1]:\n",
    "            continue\n",
    "\n",
    "        left, right = i + 1, n - 1\n",
    "        while left < right:\n",
    "            s = nums[i] + nums[left] + nums[right]\n",
    "            if s == 0:\n",
    "                result.append((nums[i], nums[left], nums[right]))\n",
    "                left += 1\n",
    "                right -= 1\n",
    "                while left < right and nums[left] == nums[left - 1]:\n",
    "                    left += 1\n",
    "                while left < right and nums[right] == nums[right + 1]:\n",
    "                    right -= 1\n",
    "            elif s < 0:\n",
    "                left += 1\n",
    "            else:  # s > 0\n",
    "                right -= 1\n",
    "\n",
    "    return result\n",
    "x = [1, -6, 4, 2, -1, 2, 0, -2, 0]\n",
    "print(three_sum(x))\n",
    "        \n",
    "        \n",
    "        "
   ]
  },
  {
   "cell_type": "code",
   "execution_count": 6,
   "metadata": {},
   "outputs": [
    {
     "name": "stdout",
     "output_type": "stream",
     "text": [
      "For '2481632' → n = 5\n",
      "For '248163264' → n = 6\n"
     ]
    }
   ],
   "source": [
    "# 5. Write a Python program to find the value of n where n degrees of number 2 are written sequentially in a line without spaces.\n",
    "#     Data:\n",
    "#         \"2481632\"\n",
    "#         \"248163264\"\n",
    "#     Expected Output:\n",
    "#         5\n",
    "#         6\n",
    "\n",
    "def find_n(s: str) -> int:\n",
    "    concatenated = \"\"\n",
    "    for i in range(1, len(s) + 1):\n",
    "        concatenated += str(2**i)\n",
    "        if concatenated == s:\n",
    "            return i\n",
    "        if len(concatenated) > len(s):\n",
    "            break\n",
    "    return None\n",
    "\n",
    "if __name__ == \"__main__\":\n",
    "    data = [\"2481632\", \"248163264\"]\n",
    "    for s in data:\n",
    "        result = find_n(s)\n",
    "        if result is not None:\n",
    "            print(f\"For '{s}' → n = {result}\")\n",
    "        else:\n",
    "            print(f\"'{s}' is not a valid sequential power-of-2 concatenation.\")\n",
    "        \n",
    "        \n",
    "        \n",
    "        "
   ]
  },
  {
   "cell_type": "code",
   "execution_count": 7,
   "metadata": {},
   "outputs": [
    {
     "name": "stdin",
     "output_type": "stream",
     "text": [
      "Enter positive numbers separated by space:  9 21\n"
     ]
    },
    {
     "name": "stdout",
     "output_type": "stream",
     "text": [
      "1\n",
      "3\n"
     ]
    }
   ],
   "source": [
    "# 6. Write a Python program that accept a positive number and subtract from this number the sum of its digits and so on. \n",
    "#    Continues this operation until the number is positive.\n",
    "#     Data:\n",
    "#         9\n",
    "#         21\n",
    "#     Expected Output:\n",
    "#         1\n",
    "#         3\n",
    "\n",
    "def steps_to_nonpositive(n: int) -> int:\n",
    "    count = 0\n",
    "    while n > 0:\n",
    "        digit_sum = sum(int(d) for d in str(n))\n",
    "        n -= digit_sum\n",
    "        count += 1\n",
    "    return count\n",
    "\n",
    "if __name__ == \"__main__\":\n",
    "    data = list(map(int, input(\"Enter positive numbers separated by space: \").split()))\n",
    "\n",
    "    for n in data:\n",
    "        result = steps_to_nonpositive(n)\n",
    "        print(result)\n",
    "        \n",
    "        \n",
    "        \n",
    "        "
   ]
  },
  {
   "cell_type": "code",
   "execution_count": 8,
   "metadata": {},
   "outputs": [
    {
     "name": "stdout",
     "output_type": "stream",
     "text": [
      "4\n",
      "8\n"
     ]
    }
   ],
   "source": [
    "# 7. Write a Python program to compute the summation of the absolute difference of all distinct pairs in an given array \n",
    "#    (non-decreasing order).\n",
    "#     Data:\n",
    "#         [1, 2, 3]\n",
    "#         [1,4,5]\n",
    "#     Expected Output:\n",
    "#         4\n",
    "#         8\n",
    "\n",
    "def sum_distinct_pairs(arr):\n",
    "    result = 0\n",
    "    i = 0\n",
    "    while i < len(arr):\n",
    "        result += i * arr[i] - (len(arr) - i - 1) * arr[i]\n",
    "        i += 1\n",
    "    \n",
    "    \n",
    "    return result\n",
    "\n",
    "print(sum_distinct_pairs([1, 2, 3]))\n",
    "print(sum_distinct_pairs([1, 4, 5]))\n",
    "        \n",
    "        \n",
    "        \n"
   ]
  },
  {
   "cell_type": "code",
   "execution_count": 9,
   "metadata": {},
   "outputs": [
    {
     "name": "stdout",
     "output_type": "stream",
     "text": [
      "Number of common divisors: 2\n",
      "Number of common divisors: 2\n",
      "Number of common divisors: 6\n"
     ]
    }
   ],
   "source": [
    "# 8. Write a Python program to find common divisors between two numbers in a given pair.\n",
    "#     Data:\n",
    "#         (2, 4)\n",
    "#         (2, 8)\n",
    "#         (12, 24)\n",
    "#     Expected Output:\n",
    "#         Number of common divisors:  2\n",
    "#         Number of common divisors:  2\n",
    "#         Number of common divisors:  6\n",
    "\n",
    "from math import gcd\n",
    "def count_divisors(n: int) -> int:\n",
    "\n",
    "    cnt = 0\n",
    "    i = 1\n",
    "    while i * i <= n:\n",
    "        if n % i == 0:\n",
    "            if i * i == n:\n",
    "                cnt += 1\n",
    "            else:\n",
    "                cnt += 2\n",
    "        i += 1\n",
    "    return cnt\n",
    "\n",
    "def common_divisors_count(a: int, b: int) -> int:\n",
    "    g = gcd(a, b)\n",
    "    return count_divisors(g)\n",
    "\n",
    "pairs = [\n",
    "    (2, 4),\n",
    "    (2, 8),\n",
    "    (12, 24),\n",
    "]\n",
    "\n",
    "for a, b in pairs:\n",
    "    print(\"Number of common divisors:\", common_divisors_count(a, b))\n",
    "            \n",
    "            \n",
    "            \n",
    "            "
   ]
  },
  {
   "cell_type": "code",
   "execution_count": 10,
   "metadata": {},
   "outputs": [
    {
     "name": "stdout",
     "output_type": "stream",
     "text": [
      "Input: 1234, Output: 5555\n",
      "Input: 1473, Output: 9339\n",
      "Input: 121, Output: 121\n"
     ]
    }
   ],
   "source": [
    "# 9. Write a Python program to reverse the digits of a given number and add it to the original,If the sum is not a palindrome \n",
    "#    repeat this procedure.\n",
    "#     Data:\n",
    "#         1234\n",
    "#         1473\n",
    "#         121\n",
    "#     Expected Output:\n",
    "#         5555\n",
    "#         9339\n",
    "#         121\n",
    "\n",
    "def reverse_and_add_to_palindrome(n):\n",
    "    current_number = n\n",
    "    while True:\n",
    "        s_current_number = str(current_number)\n",
    "        if s_current_number == s_current_number[::-1]:\n",
    "            return current_number\n",
    "        else:\n",
    "            reversed_number = int(s_current_number[::-1])\n",
    "            current_number += reversed_number\n",
    "print(f\"Input: 1234, Output: {reverse_and_add_to_palindrome(1234)}\")\n",
    "print(f\"Input: 1473, Output: {reverse_and_add_to_palindrome(1473)}\")\n",
    "print(f\"Input: 121, Output: {reverse_and_add_to_palindrome(121)}\")\n",
    "        \n",
    "        \n",
    "        "
   ]
  },
  {
   "cell_type": "code",
   "execution_count": 11,
   "metadata": {},
   "outputs": [
    {
     "name": "stdin",
     "output_type": "stream",
     "text": [
      "Input number of sequence of numbers you want to input (0 to exit):  2\n"
     ]
    },
    {
     "name": "stdout",
     "output_type": "stream",
     "text": [
      "Input numbers:\n"
     ]
    },
    {
     "name": "stdin",
     "output_type": "stream",
     "text": [
      " 6\n",
      " 4\n"
     ]
    },
    {
     "name": "stdout",
     "output_type": "stream",
     "text": [
      "Maximum sum of the said contiguous subsequence: 10\n"
     ]
    },
    {
     "name": "stdin",
     "output_type": "stream",
     "text": [
      "Input number of sequence of numbers you want to input (0 to exit):  0\n"
     ]
    }
   ],
   "source": [
    "# 10. Write a Python program to find the maximum sum of a contiguous subsequence from a given sequence of \n",
    "#     numbers a1, a2, a3, ... an. A subsequence of one element is also a continuous subsequence.\n",
    "#     Expected Output:\n",
    "#         Input number of sequence of numbers you want to input (0 to exit):\n",
    "#         2\n",
    "#         Input numbers:\n",
    "#         6\n",
    "#         4\n",
    "#         Maximum sum of the said contiguous subsequence:\n",
    "#         10\n",
    "#         Input number of sequence of numbers you want to input (0 to exit):\n",
    "#         0\n",
    "\n",
    "def max_subarray_sum(arr):\n",
    "    # Kadane's algorithm\n",
    "    current_max = arr[0]\n",
    "    max_sum = arr[0]\n",
    "    for x in arr[1:]:\n",
    "        current_max = max(x, current_max + x)\n",
    "        max_sum = max(max_sum, current_max)\n",
    "    return max_sum\n",
    "\n",
    "def main():\n",
    "    while True:\n",
    "        n = int(input(\"Input number of sequence of numbers you want to input (0 to exit): \"))\n",
    "        if n == 0:\n",
    "            break\n",
    "\n",
    "        print(\"Input numbers:\")\n",
    "        arr = []\n",
    "        for _ in range(n):\n",
    "            num = int(input())\n",
    "            arr.append(num)\n",
    "\n",
    "        result = max_subarray_sum(arr)\n",
    "        print(\"Maximum sum of the said contiguous subsequence:\", result)\n",
    "\n",
    "if __name__ == \"__main__\":\n",
    "    main()\n",
    "        \n",
    "        \n",
    "        \n",
    "        "
   ]
  },
  {
   "cell_type": "code",
   "execution_count": 14,
   "metadata": {},
   "outputs": [
    {
     "name": "stdout",
     "output_type": "stream",
     "text": [
      "Input number of combinations and sum, input 0 0 to exit:\n"
     ]
    },
    {
     "name": "stdin",
     "output_type": "stream",
     "text": [
      " 4 6\n"
     ]
    },
    {
     "name": "stdout",
     "output_type": "stream",
     "text": [
      "1\n"
     ]
    },
    {
     "name": "stdin",
     "output_type": "stream",
     "text": [
      " 2 4\n"
     ]
    },
    {
     "name": "stdout",
     "output_type": "stream",
     "text": [
      "2\n"
     ]
    },
    {
     "name": "stdin",
     "output_type": "stream",
     "text": [
      " 0 0\n"
     ]
    }
   ],
   "source": [
    "# 11. Write a Python program that reads n digits (given) chosen from 0 to 9 and prints the number of combinations \n",
    "#     where the sum of the digits equals to another given number (s). Do not use the same digits in a combination. \n",
    "#     Expected Output:\n",
    "#         Input number of combinations and sum, input 0 0 to exit:\n",
    "#         4 6\n",
    "#         2 4\n",
    "#         0 0\n",
    "#         2\n",
    "\n",
    "from itertools import combinations\n",
    "def count_combinations(n, s):\n",
    "    cnt = 0\n",
    "    for comb in combinations(range(10), n):\n",
    "        if sum(comb) == s:\n",
    "            cnt += 1\n",
    "    return cnt\n",
    "\n",
    "def main():\n",
    "    print(\"Input number of combinations and sum, input 0 0 to exit:\")\n",
    "    while True:\n",
    "        n, s = map(int, input().split())\n",
    "        if n == 0 and s == 0:\n",
    "            break\n",
    "        print(count_combinations(n, s))\n",
    "\n",
    "if __name__ == \"__main__\":\n",
    "    main()\n",
    "        \n",
    "        \n",
    "        \n",
    "        "
   ]
  },
  {
   "cell_type": "code",
   "execution_count": null,
   "metadata": {},
   "outputs": [],
   "source": [
    "# 12. Write a Python program to compute the sum of first n given prime numbers.\n",
    "#     Expected Output:\n",
    "#         Input a number (n≤10000) to compute the sum:(0 to exit)\n",
    "#         50\n",
    "#         Sum of first 50 prime numbers:\n",
    "#         5117\n",
    "#         3456\n",
    "#         Sum of first 3456 prime numbers:\n",
    "#         52238131\n",
    "#         0\n",
    "        \n",
    "\n",
    "#Need help on this\n",
    "        \n",
    "        "
   ]
  },
  {
   "cell_type": "code",
   "execution_count": 15,
   "metadata": {},
   "outputs": [
    {
     "name": "stdout",
     "output_type": "stream",
     "text": [
      "Original text: XY#6Z1#4023\n",
      "XYZZZZZZ1000023\n",
      "\n",
      "Original text: #39+1=1#30\n",
      "999+1=1000\n",
      "\n"
     ]
    }
   ],
   "source": [
    "# 13. Write a Python program to restore the original string by entering the compressed string with this rule. However, \n",
    "#     the character does not appear in the restored character string. \n",
    "#     Data:\n",
    "#         XY#6Z1#4023\n",
    "#         #39+1=1#30\n",
    "#     Expected Output:\n",
    "#         Original text: XY#6Z1#4023\n",
    "#         XYZZZZZZ1000023\n",
    "#         Original text: #39+1=1#30\n",
    "#         999+1=1000\n",
    "\n",
    "def restore(compressed: str) -> str:\n",
    "    result = []\n",
    "    i = 0\n",
    "    n = len(compressed)\n",
    "    while i < n:\n",
    "        if compressed[i] != '#':\n",
    "            result.append(compressed[i])\n",
    "            i += 1\n",
    "        else:\n",
    "            if i + 2 < n and compressed[i+1].isdigit():\n",
    "                count = int(compressed[i+1])\n",
    "                char_to_repeat = compressed[i+2]\n",
    "                result.append(char_to_repeat * count)\n",
    "                i += 3\n",
    "            else:\n",
    "                result.append('#')\n",
    "                i += 1\n",
    "\n",
    "    return ''.join(result)\n",
    "\n",
    "\n",
    "if __name__ == \"__main__\":\n",
    "    for s in [\"XY#6Z1#4023\", \"#39+1=1#30\"]:\n",
    "        print(\"Original text:\", s)\n",
    "        print(restore(s))\n",
    "        print()\n",
    "        \n",
    "        \n",
    "        \n",
    "        "
   ]
  },
  {
   "cell_type": "code",
   "execution_count": 18,
   "metadata": {},
   "outputs": [
    {
     "name": "stdout",
     "output_type": "stream",
     "text": [
      "Input a positive integer: (ctrl+d to exit)\n"
     ]
    }
   ],
   "source": [
    "# 14. Write a Python program to find the number of combinations that satisfy p + q + r + s = n where n is a given \n",
    "#     number <= 4000 and p, q, r, s in the range of 0 to 1000. \n",
    "#     Expected Output:\n",
    "#         Input a positive integer: (ctrl+d to exit)\n",
    "#         343\n",
    "#         Number of combinations of a,b,c,d: 6843880\n",
    "#         d\n",
    "        \n",
    "\n",
    "def count_quadruples(n):\n",
    "    MAX_VAL = 1000\n",
    "    MAX_SUM = 2 * MAX_VAL \n",
    "    count2 = [0] * (MAX_SUM + 1)\n",
    "    for k in range(MAX_SUM + 1):\n",
    "        if k <= MAX_VAL:\n",
    "            count2[k] = k + 1\n",
    "        else:\n",
    "            count2[k] = 2001 - k\n",
    "\n",
    "    total = 0\n",
    "    for p in range(min(n, MAX_VAL) + 1):\n",
    "        q_max = min(n - p, MAX_VAL)\n",
    "        for q in range(q_max + 1):\n",
    "            k = n - p - q\n",
    "            if 0 <= k <= MAX_SUM:\n",
    "                total += count2[k]\n",
    "    return total\n",
    "\n",
    "def main():\n",
    "    import sys\n",
    "\n",
    "    print(\"Input a positive integer: (ctrl+d to exit)\")\n",
    "    for line in sys.stdin:\n",
    "        line = line.strip()\n",
    "        if not line:\n",
    "            continue\n",
    "        try:\n",
    "            n = int(line)\n",
    "        except ValueError:\n",
    "            print(\"Please enter a valid integer.\")\n",
    "            continue\n",
    "\n",
    "        if n < 0 or n > 4000:\n",
    "            print(\"Please enter 0 ≤ n ≤ 4000.\")\n",
    "            continue\n",
    "\n",
    "        result = count_quadruples(n)\n",
    "        print(f\"Number of combinations of a,b,c,d: {result}\")\n",
    "\n",
    "if __name__ == \"__main__\":\n",
    "    main()\n",
    "        \n",
    "        "
   ]
  },
  {
   "cell_type": "code",
   "execution_count": 22,
   "metadata": {},
   "outputs": [],
   "source": [
    "# 15. Write a Python program which adds up columns and rows of given table as shown in the specified figure.\n",
    "#     Input number of rows/columns (0 to exit)\n",
    "#     Data:\n",
    "#         Input cell value:\n",
    "#         34 86 45 56\n",
    "#         12 23 45 67\n",
    "#     Expected Output:\n",
    "#         Input number of rows/columns (0 to exit)\n",
    "#         2\n",
    "#         Input cell value:\n",
    "#         34 86 45 56\n",
    "#         12 23 45 67\n",
    "#         Result:\n",
    "#         34   86   45\n",
    "#         12   23   45\n",
    "#         46  109   90\n",
    "#         Input number of rows/columns (0 to exit)\n",
    "#         0\n",
    "        \n",
    "\n",
    "#Need help on this\n",
    "        \n",
    "        "
   ]
  },
  {
   "cell_type": "code",
   "execution_count": 23,
   "metadata": {},
   "outputs": [
    {
     "name": "stdout",
     "output_type": "stream",
     "text": [
      "φ(10) = 4\n",
      "φ(15) = 8\n",
      "φ(33) = 20\n"
     ]
    }
   ],
   "source": [
    "# 16. Write a Python program to calculate Euclid's totient function of a given integer. Use a primitive method to \n",
    "#     calculate Euclid's totient function.\n",
    "#     Data:\n",
    "#         (10)\n",
    "#         (15)\n",
    "#         (33)\n",
    "#     Expected Output:\n",
    "#         4\n",
    "#         8\n",
    "#         20\n",
    "\n",
    "\n",
    "import math\n",
    "\n",
    "def totient(n):\n",
    "    count = 0\n",
    "    for i in range(1, n):\n",
    "        if math.gcd(i, n) == 1:\n",
    "            count += 1\n",
    "    return count\n",
    "\n",
    "for n in (10, 15, 33):\n",
    "    print(f\"φ({n}) =\", totient(n))\n",
    "        \n",
    "        \n",
    "        "
   ]
  },
  {
   "cell_type": "code",
   "execution_count": 24,
   "metadata": {},
   "outputs": [
    {
     "name": "stdout",
     "output_type": "stream",
     "text": [
      "True\n",
      "False\n",
      "False\n"
     ]
    }
   ],
   "source": [
    "# 17. Write a Python program to check if two given numbers are coprime or not. Return True if two numbers are coprime \n",
    "#     otherwise return false. Go to the editor\n",
    "#     Data:\n",
    "#         (17, 13)\n",
    "#         (15, 21)\n",
    "#         (25, 45)\n",
    "#     Expected Output:\n",
    "#         True\n",
    "#         True\n",
    "#         False\n",
    "#         False\n",
    "\n",
    "import math\n",
    "\n",
    "def is_coprime(a, b):\n",
    "    a, b = abs(a), abs(b)\n",
    "    return math.gcd(a, b) == 1\n",
    "pairs = [\n",
    "    (17, 13),\n",
    "    (15, 21),\n",
    "    (25, 45),\n",
    "]\n",
    "\n",
    "for x, y in pairs:\n",
    "    print(is_coprime(x, y))\n",
    "        \n",
    "        \n",
    "        \n",
    "        "
   ]
  },
  {
   "cell_type": "code",
   "execution_count": 25,
   "metadata": {},
   "outputs": [
    {
     "name": "stdout",
     "output_type": "stream",
     "text": [
      "1\n",
      "2\n",
      "3\n",
      "4\n",
      "8\n",
      "7\n",
      "6\n",
      "5\n",
      "0\n",
      "6\n",
      "2\n",
      "8\n",
      "2\n",
      "0\n",
      "3\n",
      "2\n"
     ]
    }
   ],
   "source": [
    "# 18. Write a Python program to print a given N by M matrix of numbers line by line in forward > backwards > forward >... order.\n",
    "#     Data:\n",
    "#         Input matrix:\n",
    "#             [[1, 2, 3,4],\n",
    "#              [5, 6, 7, 8],\n",
    "#              [0, 6, 2, 8],\n",
    "#              [2, 3, 0, 2]]\n",
    "#     Expected Output:\n",
    "#         1\n",
    "#         2\n",
    "#         3\n",
    "#         4\n",
    "#         8\n",
    "#         7\n",
    "#         6\n",
    "#         5\n",
    "#         0\n",
    "#         6\n",
    "#         2\n",
    "#         8\n",
    "#         2\n",
    "#         0\n",
    "#         3\n",
    "#         2\n",
    "\n",
    "def zigzag_print_one_per_line(matrix):\n",
    "  for i, row in enumerate(matrix):\n",
    "        current = row if i % 2 == 0 else row[::-1]\n",
    "        for val in current:\n",
    "            print(val)\n",
    "\n",
    "\n",
    "if __name__ == '__main__':\n",
    "    mat = [\n",
    "        [1, 2, 3, 4],\n",
    "        [5, 6, 7, 8],\n",
    "        [0, 6, 2, 8],\n",
    "        [2, 3, 0, 2]\n",
    "    ]\n",
    "    zigzag_print_one_per_line(mat)\n",
    "        \n",
    "        \n",
    "        \n",
    "        "
   ]
  },
  {
   "cell_type": "code",
   "execution_count": 26,
   "metadata": {},
   "outputs": [
    {
     "name": "stdout",
     "output_type": "stream",
     "text": [
      "6\n",
      "0\n",
      "5\n",
      "0\n"
     ]
    }
   ],
   "source": [
    "# 19. Write a Python program to remove all instances of a given value from a given array of integers and find the length of \n",
    "#     the new array.\n",
    "#     Data:\n",
    "#         ([1, 2, 3, 4, 5, 6, 7, 5], 5)\n",
    "#         ([10,10,10,10,10], 10)\n",
    "#         ([10,10,10,10,10], 20)\n",
    "#         ([], 1)\n",
    "#     Expected Output:\n",
    "#         6\n",
    "#         0\n",
    "#         5\n",
    "#         0\n",
    "\n",
    "def remove_and_length(arr, val):\n",
    "    filtered = [x for x in arr if x != val]\n",
    "    return len(filtered)\n",
    "\n",
    "tests = [\n",
    "    ([1, 2, 3, 4, 5, 6, 7, 5], 5),\n",
    "    ([10, 10, 10, 10, 10], 10),\n",
    "    ([10, 10, 10, 10, 10], 20),\n",
    "    ([], 1),\n",
    "]\n",
    "\n",
    "for arr, val in tests:\n",
    "    result = remove_and_length(arr, val)\n",
    "    print(result)\n",
    "        \n",
    "        \n",
    "        \n",
    "        "
   ]
  }
 ],
 "metadata": {
  "kernelspec": {
   "display_name": "Python 3 (ipykernel)",
   "language": "python",
   "name": "python3"
  },
  "language_info": {
   "codemirror_mode": {
    "name": "ipython",
    "version": 3
   },
   "file_extension": ".py",
   "mimetype": "text/x-python",
   "name": "python",
   "nbconvert_exporter": "python",
   "pygments_lexer": "ipython3",
   "version": "3.12.7"
  }
 },
 "nbformat": 4,
 "nbformat_minor": 4
}
