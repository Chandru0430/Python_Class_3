{
 "cells": [
  {
   "cell_type": "markdown",
   "metadata": {},
   "source": [
    "# String Hard Questions"
   ]
  },
  {
   "cell_type": "code",
   "execution_count": 2,
   "metadata": {},
   "outputs": [
    {
     "name": "stdout",
     "output_type": "stream",
     "text": [
      "a\n",
      "None\n"
     ]
    }
   ],
   "source": [
    "# 1. Write a Python program to find the first repeated character in a given string.\n",
    "#     Data:\n",
    "#         \"abcdabcd\"\n",
    "#         \"abcd\"\n",
    "#     Expected Output:\n",
    "#         a\n",
    "#         None\n",
    "\n",
    "def first_repeated_char(s: str) -> str | None:\n",
    "    seen = set()\n",
    "    for ch in s:\n",
    "        if ch in seen:\n",
    "            return ch\n",
    "        seen.add(ch)\n",
    "    return None\n",
    "\n",
    "examples = [\"abcdabcd\", \"abcd\"]\n",
    "\n",
    "for text in examples:\n",
    "    result = first_repeated_char(text)\n",
    "    print(result)\n",
    "        \n",
    "        \n",
    "        \n",
    "        "
   ]
  },
  {
   "cell_type": "code",
   "execution_count": 3,
   "metadata": {},
   "outputs": [
    {
     "name": "stdout",
     "output_type": "stream",
     "text": [
      "'abcabc' -> ('a', 0)\n",
      "'abcb' -> ('b', 1)\n",
      "'abcc' -> ('c', 2)\n",
      "'abcxxy' -> ('x', 3)\n",
      "'abc' -> None\n"
     ]
    }
   ],
   "source": [
    "# 2. Write a Python program to find the first repeated character of a given string where the index of first occurrence is smallest.\n",
    "#     Data:\n",
    "#         \"abcabc\"\n",
    "#         \"abcb\"\n",
    "#         \"abcc\"\n",
    "#         \"abcxxy\"\n",
    "#         \"abc\"\n",
    "#     Expected Output:\n",
    "#         ('a', 0) \n",
    "#         ('b', 1)\n",
    "#         ('c', 2)\n",
    "#         ('x', 3)\n",
    "#         None\n",
    "\n",
    "from collections import Counter\n",
    "def first_repeated_char(s: str):\n",
    "    freq = Counter(s)\n",
    "    for idx, ch in enumerate(s):\n",
    "        if freq[ch] > 1:\n",
    "            return (ch, idx)\n",
    "    return None\n",
    "\n",
    "if __name__ == \"__main__\":\n",
    "    test_data = [\"abcabc\", \"abcb\", \"abcc\", \"abcxxy\", \"abc\"]\n",
    "\n",
    "    for s in test_data:\n",
    "        result = first_repeated_char(s)\n",
    "        print(f\"{s!r} -> {result}\")\n",
    "        \n",
    "        \n",
    "        "
   ]
  },
  {
   "cell_type": "code",
   "execution_count": 4,
   "metadata": {},
   "outputs": [
    {
     "name": "stdout",
     "output_type": "stream",
     "text": [
      "('of', 4)\n"
     ]
    }
   ],
   "source": [
    "# 3. Write a Python program to find the second most repeated word in a given string.\n",
    "#     Data:\n",
    "#         x = (\"\"\"\"Both of these issues are fixed by postponing the evaluation of annotations. \n",
    "#         Instead of compiling code which executes expressions in annotations at their definition time, the compiler stores the \n",
    "#         annotation in a string form equivalent to the AST of the expression in question. If needed, \n",
    "#         annotations can be resolved at runtime using typing.get_type_hints(). \n",
    "#         In the common case where this is not required, \n",
    "#         the annotations are cheaper to store (since short strings are interned by the interpreter) \n",
    "#         and make startup time faster.\"\"\"\")\n",
    "#     Expected Output:\n",
    "#                 ('of', 4)\n",
    "             \n",
    "\n",
    "import re\n",
    "from collections import Counter\n",
    "\n",
    "def second_most_repeated_word(text):\n",
    "    words = re.findall(r\"\\w+\", text.lower())\n",
    "    freq = Counter(words)\n",
    "    most_two = freq.most_common(2)\n",
    "    if len(most_two) < 2:\n",
    "        return None  \n",
    "    return most_two[1]\n",
    "\n",
    "if __name__ == \"__main__\":\n",
    "    x = (\n",
    "        \"\"\"Both of these issues are fixed by postponing the evaluation of annotations.\n",
    "        Instead of compiling code which executes expressions in annotations at their definition time, the compiler stores the\n",
    "        annotation in a string form equivalent to the AST of the expression in question. If needed,\n",
    "        annotations can be resolved at runtime using typing.get_type_hints().\n",
    "        In the common case where this is not required,\n",
    "        the annotations are cheaper to store (since short strings are interned by the interpreter)\n",
    "        and make startup time faster.\"\"\"\n",
    "    )\n",
    "\n",
    "    result = second_most_repeated_word(x)\n",
    "    print(result)  \n",
    "             \n",
    "             "
   ]
  },
  {
   "cell_type": "code",
   "execution_count": 5,
   "metadata": {},
   "outputs": [
    {
     "name": "stdout",
     "output_type": "stream",
     "text": [
      "t\n",
      "b\n"
     ]
    }
   ],
   "source": [
    "# 4. Write a Python program to find the maximum occurring character in a given string.\n",
    "#     Data:\n",
    "#         \"Python: Get file creation and modification date/times\"\n",
    "#         \"abcdefghijkb\"\n",
    "#     Expected Output:\n",
    "#         t\n",
    "#         b\n",
    "\n",
    "from collections import Counter\n",
    "def max_occurring_char(s: str) -> str:\n",
    "    filtered = (ch for ch in s if not ch.isspace())\n",
    "    counter = Counter(filtered)\n",
    "    if not counter:\n",
    "        return ''   \n",
    "    return counter.most_common(1)[0][0]\n",
    "data1 = \"Python: Get file creation and modification date/times\"\n",
    "data2 = \"abcdefghijkb\"\n",
    "\n",
    "print(max_occurring_char(data1))   \n",
    "print(max_occurring_char(data2))\n",
    "        \n",
    "        \n",
    "        \n",
    "        "
   ]
  },
  {
   "cell_type": "code",
   "execution_count": 6,
   "metadata": {},
   "outputs": [
    {
     "name": "stdout",
     "output_type": "stream",
     "text": [
      "PythoN ExerciseS PracticE SolutioN\n",
      "AidinasauR\n"
     ]
    }
   ],
   "source": [
    "# 5. Write a Python program to capitalize first and last letters of each word of a given string.\n",
    "#     Data:\n",
    "#         \"python exercises practice solution\"\n",
    "#         \"aidinasaur\"\n",
    "#     Expected Output:\n",
    "#         PythoN ExerciseS PracticE SolutioN\n",
    "#         AidinasauR\n",
    "\n",
    "def cap_first_last(s: str) -> str:\n",
    "    \"\"\"\n",
    "    Capitalize the first and last letter of each word in the string s.\n",
    "    \"\"\"\n",
    "    words = s.split()\n",
    "    result_words = []\n",
    "    for w in words:\n",
    "        if len(w) == 0:\n",
    "            result_words.append(w)\n",
    "        elif len(w) == 1:\n",
    "            result_words.append(w.upper())\n",
    "        else:\n",
    "            result_words.append(w[0].upper() + w[1:-1] + w[-1].upper())\n",
    "    return \" \".join(result_words)\n",
    "\n",
    "data1 = \"python exercises practice solution\"\n",
    "data2 = \"aidinasaur\"\n",
    "\n",
    "print(cap_first_last(data1))   \n",
    "print(cap_first_last(data2))   \n",
    "        \n",
    "        \n",
    "        \n",
    "        "
   ]
  },
  {
   "cell_type": "code",
   "execution_count": 7,
   "metadata": {},
   "outputs": [
    {
     "name": "stdout",
     "output_type": "stream",
     "text": [
      "'123abcd45' -> 15\n",
      "'abcd1234' -> 10\n"
     ]
    }
   ],
   "source": [
    "# 6. Write a Python program to compute sum of digits of a given string.\n",
    "#     Data:\n",
    "#         \"123abcd45\"\n",
    "#         \"abcd1234\"\n",
    "#     Expected Output:\n",
    "#         15\n",
    "#         10\n",
    "\n",
    "def sum_of_digits(s: str) -> int:\n",
    "    \"\"\"\n",
    "    Compute the sum of all digit characters in the input string.\n",
    "\n",
    "    :param s: Input string, possibly containing letters and digits.\n",
    "    :return: Sum of all digit characters in s.\n",
    "    \"\"\"\n",
    "    return sum(int(ch) for ch in s if ch.isdigit())\n",
    "\n",
    "if __name__ == \"__main__\":\n",
    "    examples = [\"123abcd45\", \"abcd1234\"]\n",
    "    for txt in examples:\n",
    "        print(f\"{txt!r} -> {sum_of_digits(txt)}\")\n",
    "        \n",
    "        \n",
    "        "
   ]
  },
  {
   "cell_type": "code",
   "execution_count": 8,
   "metadata": {},
   "outputs": [
    {
     "name": "stdout",
     "output_type": "stream",
     "text": [
      "Original string: 111000010000110\n",
      "Maximum length of consecutive 0’s: 4\n",
      "\n",
      "Original string: 111000111\n",
      "Maximum length of consecutive 0’s: 3\n",
      "\n"
     ]
    }
   ],
   "source": [
    "# 7. Write a Python program to find maximum length of consecutive 0's in a given binary string.\n",
    "#     Data:\n",
    "#         Original string:\n",
    "#         111000010000110\n",
    "#         111000111\n",
    "#     Expected Output:\n",
    "#         Maximum length of consecutive 0’s:\n",
    "#         4\n",
    "#         Maximum length of consecutive 0’s:\n",
    "#         3\n",
    "\n",
    "\n",
    "def max_consecutive_zeros(s):\n",
    "    zero_runs = s.split('1')\n",
    "    max_len = max((len(run) for run in zero_runs), default=0)\n",
    "    return max_len\n",
    "data = [\n",
    "    \"111000010000110\",\n",
    "    \"111000111\"\n",
    "]\n",
    "\n",
    "for binary_str in data:\n",
    "    result = max_consecutive_zeros(binary_str)\n",
    "    print(f\"Original string: {binary_str}\")\n",
    "    print(f\"Maximum length of consecutive 0’s: {result}\\n\")\n",
    "        \n",
    "        "
   ]
  },
  {
   "cell_type": "code",
   "execution_count": 9,
   "metadata": {},
   "outputs": [
    {
     "name": "stdout",
     "output_type": "stream",
     "text": [
      "P\n",
      "No common characters.\n"
     ]
    }
   ],
   "source": [
    "# 8. Write a Python program to find all the common characters in lexicographical order from two given lower case strings. \n",
    "#    If there are no common letters print \"No common characters\".\n",
    "#     Data:\n",
    "#         Two strings: Python : PHP\n",
    "#         Two strings: Java : PHP\n",
    "#     Expected Output:\n",
    "#         P\n",
    "#         No common characters.\n",
    "\n",
    "def common_chars(s1, s2):\n",
    "    set1 = set(s1)\n",
    "    set2 = set(s2)\n",
    "\n",
    "    common = set1 & set2\n",
    "\n",
    "    if not common:\n",
    "        return \"No common characters.\"\n",
    "    else:\n",
    "        return ''.join(sorted(common))\n",
    "\n",
    "print(common_chars(\"Python\", \"PHP\"))  \n",
    "print(common_chars(\"Java\",   \"PHP\"))\n",
    "        \n",
    "        \n",
    "        \n",
    "        "
   ]
  },
  {
   "cell_type": "code",
   "execution_count": 10,
   "metadata": {},
   "outputs": [
    {
     "name": "stdout",
     "output_type": "stream",
     "text": [
      "9\n"
     ]
    }
   ],
   "source": [
    "# 9. Write a Python program to make two given strings (lower case, may or may not be of the same length) \n",
    "#    anagrams removing any characters from any of the strings.\n",
    "#     Data:\n",
    "#         \"marvelboss gaming\"\n",
    "#         \"marvelboss timepss\"\n",
    "#     Expected Output:\n",
    "#         9\n",
    "\n",
    "from collections import Counter\n",
    "\n",
    "def removals_to_make_anagrams(s1, s2):\n",
    "    c1 = Counter(s1)\n",
    "    c2 = Counter(s2)\n",
    "    all_chars = set(c1) | set(c2)\n",
    "    removals = sum(abs(c1[ch] - c2[ch]) for ch in all_chars)\n",
    "    return removals\n",
    "\n",
    "if __name__ == \"__main__\":\n",
    "    s1 = \"marvelboss gaming\"\n",
    "    s2 = \"marvelboss timepss\"\n",
    "    print(removals_to_make_anagrams(s1, s2))\n",
    "        \n",
    "        \n",
    "        \n",
    "        "
   ]
  },
  {
   "cell_type": "code",
   "execution_count": 11,
   "metadata": {},
   "outputs": [
    {
     "name": "stdout",
     "output_type": "stream",
     "text": [
      "After removing consecutive duplicates: xxxxxyyyyy\n",
      "xy\n"
     ]
    }
   ],
   "source": [
    "# 10. Write a Python program to remove all consecutive duplicates of a given string.\n",
    "#     Data:\n",
    "#         str1 = 'xxxxxyyyyy'\n",
    "#     Expected Output:\n",
    "#         After removing consecutive duplicates: xxxxxyyyyy\n",
    "#         xy\n",
    "\n",
    "def remove_consecutive_duplicates(s: str) -> str:\n",
    "    result = []\n",
    "    prev_char = None\n",
    "\n",
    "    for ch in s:\n",
    "        if ch != prev_char:\n",
    "            result.append(ch)\n",
    "            prev_char = ch\n",
    "\n",
    "    return ''.join(result)\n",
    "\n",
    "\n",
    "if __name__ == \"__main__\":\n",
    "    str1 = 'xxxxxyyyyy'\n",
    "    compressed = remove_consecutive_duplicates(str1)\n",
    "    print(\"After removing consecutive duplicates:\", str1)\n",
    "    print(compressed)\n",
    "        \n",
    "        \n",
    "        \n",
    "        "
   ]
  },
  {
   "cell_type": "code",
   "execution_count": 16,
   "metadata": {},
   "outputs": [
    {
     "name": "stdout",
     "output_type": "stream",
     "text": [
      "Common longest sub string: abcd\n"
     ]
    }
   ],
   "source": [
    "# 11. Write a Python program to find the longest common sub-string from two given strings.\n",
    "#     Data:\n",
    "#         Original Substrings:\n",
    "#         abcdefgh\n",
    "#         xswerabcdwd\n",
    "#     Expected Output:\n",
    "#         Common longest sub string:\n",
    "#         abcd\n",
    "\n",
    "def longest_common_substring(s1: str, s2: str) -> str:\n",
    "    # dp[i][j] will be length of longest common suffix ending at s1[i-1], s2[j-1]\n",
    "    m, n = len(s1), len(s2)\n",
    "    if m == 0 or n == 0:\n",
    "        return \"\"\n",
    "\n",
    "    # initialize dp table with zeros\n",
    "    dp = [[0] * (n + 1) for _ in range(m + 1)]\n",
    "    max_len = 0\n",
    "    max_end_pos = 0  # will hold the end position of the substring in s1\n",
    "\n",
    "    # fill dp table\n",
    "    for i in range(1, m + 1):\n",
    "        for j in range(1, n + 1):\n",
    "            if s1[i - 1] == s2[j - 1]:\n",
    "                dp[i][j] = dp[i - 1][j - 1] + 1\n",
    "                if dp[i][j] > max_len:\n",
    "                    max_len = dp[i][j]\n",
    "                    max_end_pos = i  # end index in s1\n",
    "            else:\n",
    "                dp[i][j] = 0\n",
    "\n",
    "    # extract the substring from s1\n",
    "    # substring ends at max_end_pos (exclusive) and has length max_len\n",
    "    return s1[max_end_pos - max_len : max_end_pos]\n",
    "\n",
    "\n",
    "if __name__ == \"__main__\":\n",
    "    s1 = \"abcdefgh\"\n",
    "    s2 = \"xswerabcdwd\"\n",
    "    result = longest_common_substring(s1, s2)\n",
    "    print(\"Common longest sub string:\", result)\n",
    "        \n",
    "        \n",
    "        "
   ]
  },
  {
   "cell_type": "code",
   "execution_count": 17,
   "metadata": {},
   "outputs": [
    {
     "name": "stdout",
     "output_type": "stream",
     "text": [
      "Original String:       'Python Exercises'\n",
      "After moving spaces:   ' PythonExercises'\n"
     ]
    }
   ],
   "source": [
    "# 12. Write a Python program to move all spaces to the front of a given string in single traversal.\n",
    "#     Data:\n",
    "#         Original String:\n",
    "#         Python Exercises\n",
    "#     Expected Output:\n",
    "#         After moving all spaces to the front:\n",
    "#         PythonExercises  \n",
    "        \n",
    "\n",
    "def move_spaces_front(s: str) -> str:\n",
    "    space_count = 0\n",
    "    res_chars = []\n",
    "    for ch in s:\n",
    "        if ch == ' ':\n",
    "            space_count += 1\n",
    "        else:\n",
    "            res_chars.append(ch)\n",
    "    return ' ' * space_count + ''.join(res_chars)\n",
    "\n",
    "if __name__ == \"__main__\":\n",
    "    original = \"Python Exercises\"\n",
    "    result = move_spaces_front(original)\n",
    "    print(\"Original String:       {!r}\".format(original))\n",
    "    print(\"After moving spaces:   {!r}\".format(result))\n",
    "        \n",
    "        "
   ]
  },
  {
   "cell_type": "code",
   "execution_count": 18,
   "metadata": {},
   "outputs": [
    {
     "name": "stdout",
     "output_type": "stream",
     "text": [
      "Remove all characters except 'P' in the said string:\n",
      "P\n",
      "Remove all characters except 'g' in the said string:\n",
      "gg\n",
      "Remove all characters except 'e' in the said string:\n",
      "eee\n"
     ]
    }
   ],
   "source": [
    "# 13. Write a Python code to remove all characters except a specified character in a given string. \n",
    "#     Data:\n",
    "#         Original string\n",
    "#         \"Python Exercises\"\n",
    "#         \"google\"\n",
    "#         \"exercises\"\n",
    "#     Expected Output:\n",
    "#         Remove all characters except P in the said string:\n",
    "#         P\n",
    "#         Remove all characters except g in the said string:\n",
    "#         gg\n",
    "#         Remove all characters except e in the said string:\n",
    "#         eee\n",
    "\n",
    "def filter_char(s, keep):\n",
    "    \"\"\"\n",
    "    Return a new string consisting only of the character `keep`\n",
    "    as it appears in `s`. Case-sensitive.\n",
    "    \"\"\"\n",
    "    return ''.join(ch for ch in s if ch == keep)\n",
    "\n",
    "examples = [\n",
    "    (\"Python Exercises\", \"P\"),\n",
    "    (\"google\", \"g\"),\n",
    "    (\"exercises\", \"e\")\n",
    "]\n",
    "\n",
    "for original, keep_char in examples:\n",
    "    result = filter_char(original, keep_char)\n",
    "    print(f\"Remove all characters except {keep_char!r} in the said string:\")\n",
    "    print(result or \"(none found)\")\n",
    "        \n",
    "        \n",
    "        \n",
    "        "
   ]
  },
  {
   "cell_type": "code",
   "execution_count": 19,
   "metadata": {},
   "outputs": [
    {
     "name": "stdout",
     "output_type": "stream",
     "text": [
      "Upper case characters: 2\n",
      "Lower case characters: 11\n",
      "Number case: 0\n",
      "Special case characters: 2\n"
     ]
    }
   ],
   "source": [
    "# 14. Write a Python program to count Uppercase, Lowercase, special character and numeric values in a given string.\n",
    "#     Data:\n",
    "#         Original Substrings: @Aidinasaur.Com\n",
    "#     Expected Output:\n",
    "#         Upper case characters:  2\n",
    "#         Lower case characters:  11\n",
    "#         Number case:  0\n",
    "#         Special case characters:  2\n",
    "\n",
    "def count_char_types(s: str):\n",
    "    upper = lower = digit = special = 0\n",
    "    for ch in s:\n",
    "        if ch.isupper():\n",
    "            upper += 1\n",
    "        elif ch.islower():\n",
    "            lower += 1\n",
    "        elif ch.isdigit():\n",
    "            digit += 1\n",
    "        else:\n",
    "            special += 1\n",
    "    return upper, lower, digit, special\n",
    "\n",
    "text = \"@Aidinasaur.Com\"\n",
    "u, l, d, sp = count_char_types(text)\n",
    "\n",
    "print(\"Upper case characters:\", u)\n",
    "print(\"Lower case characters:\", l)\n",
    "print(\"Number case:\",           d)\n",
    "print(\"Special case characters:\", sp)\n",
    "            \n",
    "            \n",
    "            \n",
    "            "
   ]
  },
  {
   "cell_type": "code",
   "execution_count": 21,
   "metadata": {},
   "outputs": [
    {
     "name": "stdout",
     "output_type": "stream",
     "text": [
      "Minimum window: SOERIU\n"
     ]
    }
   ],
   "source": [
    "# 15. Write a Python program to find the minimum window in a given string which will contain all\n",
    "#     the characters of another given string.\n",
    "#     Data:\n",
    "#         Original Strings:\n",
    "#         PRWSOERIUSFK \n",
    "#         OSU\n",
    "#     Expected Output:\n",
    "#         Minimum window:\n",
    "#         OERIUS \n",
    "\n",
    "from collections import Counter\n",
    "\n",
    "def min_window_substring(s: str, t: str) -> str:\n",
    "    if not s or not t:\n",
    "        return \"\"\n",
    "\n",
    "    # Counter for characters we still need\n",
    "    need = Counter(t)\n",
    "    # total number of characters we must still match\n",
    "    missing = len(t)\n",
    "\n",
    "    # window boundaries and best answer so far\n",
    "    left = 0\n",
    "    min_start = 0\n",
    "    min_len = float('inf')\n",
    "\n",
    "    # expand the right end of the window\n",
    "    for right, ch in enumerate(s):\n",
    "        # if this char is still needed, decrement missing\n",
    "        if need[ch] > 0:\n",
    "            missing -= 1\n",
    "        need[ch] -= 1\n",
    "\n",
    "        # when we have a valid window, try to shrink from the left\n",
    "        while missing == 0:\n",
    "            window_len = right - left + 1\n",
    "            if window_len < min_len:\n",
    "                min_len = window_len\n",
    "                min_start = left\n",
    "\n",
    "            # attempt to drop s[left] from the window\n",
    "            need[s[left]] += 1\n",
    "            # if after adding back, we now need this char, window is no longer valid\n",
    "            if need[s[left]] > 0:\n",
    "                missing += 1\n",
    "            left += 1\n",
    "\n",
    "    # if we never found a valid window, min_len remains inf\n",
    "    if min_len == float('inf'):\n",
    "        return \"\"\n",
    "\n",
    "    return s[min_start:min_start + min_len]\n",
    "\n",
    "\n",
    "if __name__ == \"__main__\":\n",
    "    original = \"PRWSOERIUSFK\"\n",
    "    pattern  = \"OSU\"\n",
    "    result = min_window_substring(original, pattern)\n",
    "    print(\"Minimum window:\", result)\n",
    "        \n",
    "        \n",
    "        \n",
    "        "
   ]
  },
  {
   "cell_type": "code",
   "execution_count": 22,
   "metadata": {},
   "outputs": [
    {
     "name": "stdout",
     "output_type": "stream",
     "text": [
      "Original Strings: asdaewsqgtwwsa\n",
      "Smallest window that contains all characters of the said string: daewsqgt\n"
     ]
    }
   ],
   "source": [
    "# 16. Write a Python program to find smallest window that contains all characters of a given string.\n",
    "#     Data:\n",
    "#         Original Strings:\n",
    "#         asdaewsqgtwwsa\n",
    "#     Expected Output:\n",
    "#         Smallest window that contains all characters of the said string:\n",
    "#         daewsqgt\n",
    "\n",
    "\n",
    "def smallest_window(s):\n",
    "    \"\"\"\n",
    "    Returns the smallest substring of s that contains all of s's unique characters.\n",
    "    \"\"\"\n",
    "    if not s:\n",
    "        return \"\"\n",
    "\n",
    "    # 1) Identify all unique characters we must have in the window\n",
    "    required_chars = set(s)\n",
    "    required = len(required_chars)\n",
    "\n",
    "    # 2) Sliding window state\n",
    "    window_counts = {}        # char -> count in current window\n",
    "    formed = 0                # how many unique chars of s are currently satisfied (count >= 1)\n",
    "    left = 0\n",
    "    min_len = float(\"inf\")\n",
    "    min_window = (0, 0)       # (start, end) of best window found\n",
    "\n",
    "    # 3) Expand the window with right pointer\n",
    "    for right, ch in enumerate(s):\n",
    "        window_counts[ch] = window_counts.get(ch, 0) + 1\n",
    "        # if this char count just reached 1, we've covered one more unique char\n",
    "        if window_counts[ch] == 1:\n",
    "            formed += 1\n",
    "\n",
    "        # 4) When all required chars are in the window, try to shrink from the left\n",
    "        while left <= right and formed == required:\n",
    "            window_size = right - left + 1\n",
    "            if window_size < min_len:\n",
    "                min_len = window_size\n",
    "                min_window = (left, right)\n",
    "\n",
    "            # Pop the leftmost character out of the window\n",
    "            left_ch = s[left]\n",
    "            window_counts[left_ch] -= 1\n",
    "            # If its count drops to 0, we no longer have that unique char\n",
    "            if window_counts[left_ch] == 0:\n",
    "                formed -= 1\n",
    "            left += 1\n",
    "\n",
    "    start, end = min_window\n",
    "    return s[start:end+1] if min_len != float(\"inf\") else \"\"\n",
    "\n",
    "\n",
    "if __name__ == \"__main__\":\n",
    "    data = \"asdaewsqgtwwsa\"\n",
    "    result = smallest_window(data)\n",
    "    print(\"Original Strings:\", data)\n",
    "    print(\"Smallest window that contains all characters of the said string:\", result)\n",
    "        \n",
    "        \n",
    "        "
   ]
  },
  {
   "cell_type": "code",
   "execution_count": 25,
   "metadata": {},
   "outputs": [
    {
     "name": "stdout",
     "output_type": "stream",
     "text": [
      "Smallest word: a\n",
      "Largest word:  Algorithm.\n"
     ]
    }
   ],
   "source": [
    "# 17. Write a Python program to find smallest and largest word in a given string.\n",
    "#     Data:\n",
    "#         Original Strings:\n",
    "#         Write a Java program to sort an array of given integers using Quick sort Algorithm.\n",
    "#     Expected Output:\n",
    "#         Smallest word: a\n",
    "#         Largest word: Algorithm.\n",
    "\n",
    "def find_smallest_largest_word(s: str) -> tuple[str, str]:\n",
    "    words = s.split()\n",
    "    smallest = min(words, key=len)\n",
    "    largest  = max(words, key=len)\n",
    "    return smallest, largest\n",
    "\n",
    "if __name__ == \"__main__\":\n",
    "    input_string = (\"Write a Java program to sort an array of given \"\n",
    "                    \"integers using Quick sort Algorithm.\")\n",
    "\n",
    "    small, large = find_smallest_largest_word(input_string)\n",
    "    print(\"Smallest word:\", small)\n",
    "    print(\"Largest word: \", large)\n",
    "            \n",
    "            \n",
    "            \n"
   ]
  },
  {
   "cell_type": "code",
   "execution_count": 27,
   "metadata": {},
   "outputs": [
    {
     "name": "stdout",
     "output_type": "stream",
     "text": [
      "7\n",
      "1\n",
      "Not found\n"
     ]
    }
   ],
   "source": [
    "# 18. Write a Python program to find the index of a given string at which a given substring starts. If the substring is \n",
    "#     not found in the given string return 'Not found\n",
    "#     Data:\n",
    "#         \"Ex\"\n",
    "#         \"yt\"\n",
    "#         \"PY\"\n",
    "#     Expected Output:\n",
    "#         7\n",
    "#         1\n",
    "#         Not found\n",
    "\n",
    "def find_substring_index(s: str, sub: str) -> int | str:\n",
    "    idx = s.find(sub)\n",
    "    return idx if idx != -1 else \"Not found\"\n",
    "\n",
    "\n",
    "if __name__ == \"__main__\":\n",
    "    s = \"Python Exercises\"\n",
    "    test_substrings = [\"Ex\", \"yt\", \"PY\"]\n",
    "\n",
    "    for sub in test_substrings:\n",
    "        result = find_substring_index(s, sub)\n",
    "        print(result)\n",
    "        \n",
    "        \n",
    "        \n",
    "        "
   ]
  },
  {
   "cell_type": "code",
   "execution_count": 28,
   "metadata": {},
   "outputs": [
    {
     "name": "stdout",
     "output_type": "stream",
     "text": [
      "Using str.swapcase():\n",
      "pYTHON eXERCISES\n",
      "jAVA\n",
      "nUMpY\n",
      "\n",
      "Using manual method:\n",
      "pYTHON eXERCISES\n",
      "jAVA\n",
      "nUMpY\n"
     ]
    }
   ],
   "source": [
    "# 19. Write a Python program to swap cases of a given string.\n",
    "#     Data:\n",
    "#         \"Python Exercises\"\n",
    "#         \"Java\"\n",
    "#         \"NumPy\"\n",
    "#     Expected Output:\n",
    "#         pYTHON eXERCISES\n",
    "#         jAVA\n",
    "#         nUMpY\n",
    "\n",
    "def swap_using_method(s: str) -> str:\n",
    "    return s.swapcase()\n",
    "\n",
    "def swap_manually(s: str) -> str:\n",
    "\n",
    "    result_chars = []\n",
    "    for ch in s:\n",
    "        if ch.isupper():\n",
    "            result_chars.append(ch.lower())\n",
    "        elif ch.islower():\n",
    "            result_chars.append(ch.upper())\n",
    "        else:\n",
    "            result_chars.append(ch)\n",
    "    return ''.join(result_chars)\n",
    "\n",
    "if __name__ == \"__main__\":\n",
    "    samples = [\n",
    "        \"Python Exercises\",\n",
    "        \"Java\",\n",
    "        \"NumPy\"\n",
    "    ]\n",
    "\n",
    "    print(\"Using str.swapcase():\")\n",
    "    for text in samples:\n",
    "        print(swap_using_method(text))\n",
    "\n",
    "    print(\"\\nUsing manual method:\")\n",
    "    for text in samples:\n",
    "        print(swap_manually(text))\n",
    "        \n",
    "        \n",
    "        \n",
    "        "
   ]
  },
  {
   "cell_type": "code",
   "execution_count": 29,
   "metadata": {},
   "outputs": [
    {
     "name": "stdout",
     "output_type": "stream",
     "text": [
      "Hexadecimal string: 6f0c2d436d\n"
     ]
    }
   ],
   "source": [
    "# 20. Write a Python program to convert a given Bytearray to Hexadecimal string.\n",
    "#     Data:\n",
    "#         Original Bytearray :\n",
    "#         [111, 12, 45, 67, 109]\n",
    "#     Expected Output:\n",
    "#         Hexadecimal string:\n",
    "#         6f0c2d436d\n",
    "\n",
    "def bytearray_to_hex(barr):\n",
    "    return barr.hex()\n",
    "\n",
    "if __name__ == \"__main__\":\n",
    "    data = bytearray([111, 12, 45, 67, 109])\n",
    "    hex_string = bytearray_to_hex(data)\n",
    "    print(\"Hexadecimal string:\", hex_string)\n",
    "        \n",
    "        \n",
    "        \n",
    "        "
   ]
  }
 ],
 "metadata": {
  "kernelspec": {
   "display_name": "Python 3 (ipykernel)",
   "language": "python",
   "name": "python3"
  },
  "language_info": {
   "codemirror_mode": {
    "name": "ipython",
    "version": 3
   },
   "file_extension": ".py",
   "mimetype": "text/x-python",
   "name": "python",
   "nbconvert_exporter": "python",
   "pygments_lexer": "ipython3",
   "version": "3.12.7"
  }
 },
 "nbformat": 4,
 "nbformat_minor": 4
}
