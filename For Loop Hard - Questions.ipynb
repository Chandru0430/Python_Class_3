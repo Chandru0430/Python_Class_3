{
 "cells": [
  {
   "cell_type": "markdown",
   "metadata": {},
   "source": [
    "# For Loop Hard Questions"
   ]
  },
  {
   "cell_type": "code",
   "execution_count": 3,
   "metadata": {},
   "outputs": [
    {
     "name": "stdout",
     "output_type": "stream",
     "text": [
      "1\n",
      "4\n"
     ]
    }
   ],
   "source": [
    "# ''' 1. Write a Python program to compute the greatest common divisor (GCD) of two positive integers.\n",
    "#     Data:\n",
    "#         gcd(22, 27)\n",
    "#         gcd(4, 3344)\n",
    "#     Expected Output:\n",
    "#         1\n",
    "#         4 '''\n",
    "\n",
    "def gcd(a, b):\n",
    "    greatest = 1\n",
    "    for i in range(1, min(a, b) + 1):\n",
    "        if a % i == 0 and b % i == 0:\n",
    "            greatest = i\n",
    "\n",
    "    return greatest\n",
    "\n",
    "print(gcd(22, 27))    \n",
    "print(gcd(4, 3344))  \n",
    "        \n",
    "        \n",
    "        \n",
    "        "
   ]
  },
  {
   "cell_type": "code",
   "execution_count": 4,
   "metadata": {},
   "outputs": [
    {
     "name": "stdout",
     "output_type": "stream",
     "text": [
      "12\n",
      "135\n"
     ]
    }
   ],
   "source": [
    "''' 2. Write a Python program to get the least common multiple (LCM) of two positive integers.\n",
    "    Data:\n",
    "        lcm(4, 6)\n",
    "        lcm(15, 27)\n",
    "    Expected Output:\n",
    "        12\n",
    "        135 '''\n",
    "\n",
    "def lcm(a, b):\n",
    "    start = max(a, b)\n",
    "    for i in range(start, a * b + 1):\n",
    "        if i % a == 0 and i % b == 0:\n",
    "            return i\n",
    "print(lcm(4, 6))    \n",
    "print(lcm(15, 27))\n",
    "        \n",
    "        \n",
    "        \n",
    "        "
   ]
  },
  {
   "cell_type": "code",
   "execution_count": 5,
   "metadata": {},
   "outputs": [
    {
     "name": "stdout",
     "output_type": "stream",
     "text": [
      "['Read', 'edit', 'documents', 'attached', 'emails']\n"
     ]
    }
   ],
   "source": [
    "''' 3. Write a Python program to find the list of words that are longer than a specified number from the given list.\n",
    "    Data:\n",
    "        lt = [\"The Read and edit documents attached to emails\"]\n",
    "        number = 3\n",
    "    Expected Output:\n",
    "        ['Read', 'edit', 'documents', 'attached', 'emails'] '''\n",
    "\n",
    "lt = [\"The Read and edit documents attached to emails\"]\n",
    "number = 3\n",
    "result = []\n",
    "for sentence in lt:\n",
    "    words = sentence.split()\n",
    "    for word in words:\n",
    "        if len(word) > number:\n",
    "            result.append(word)\n",
    "print(result)\n",
    "        \n",
    "        \n",
    "        \n",
    "        "
   ]
  },
  {
   "cell_type": "code",
   "execution_count": 6,
   "metadata": {},
   "outputs": [
    {
     "name": "stdout",
     "output_type": "stream",
     "text": [
      "True\n",
      "None\n"
     ]
    }
   ],
   "source": [
    "''' 4. Write a Python function that takes two lists as parameters and returns True if they have at least one element in common, none if not.\n",
    "    Data:\n",
    "        (a, b) = ([1,2,3,4,5], [5,6,7,8,9])\n",
    "        (a, b) =([1,2,3,4,5], [6,7,8,9])\n",
    "    Expected Output:\n",
    "        True\n",
    "        None '''\n",
    "        \n",
    "def have_common(a, b):\n",
    "    for item in a:\n",
    "        if item in b:\n",
    "            return True\n",
    "    return None\n",
    "a1, b1 = [1, 2, 3, 4, 5], [5, 6, 7, 8, 9]\n",
    "a2, b2 = [1, 2, 3, 4, 5], [6, 7, 8, 9]\n",
    "\n",
    "print(have_common(a1, b1))   \n",
    "print(have_common(a2, b2))\n",
    "\n",
    "        \n",
    "        "
   ]
  },
  {
   "cell_type": "code",
   "execution_count": 7,
   "metadata": {},
   "outputs": [
    {
     "name": "stdout",
     "output_type": "stream",
     "text": [
      "Sublists of x: [[], [10], [20], [10, 20], [30], [10, 30], [20, 30], [10, 20, 30], [40], [10, 40], [20, 40], [10, 20, 40], [30, 40], [10, 30, 40], [20, 30, 40], [10, 20, 30, 40]]\n",
      "Sublists of y: [[], ['X'], ['Y'], ['X', 'Y'], ['Z'], ['X', 'Z'], ['Y', 'Z'], ['X', 'Y', 'Z']]\n"
     ]
    }
   ],
   "source": [
    "''' 5. Write a Python program to generate all sublists of a list.\n",
    "    Data:\n",
    "        Original list:\n",
    "        x = [10, 20, 30, 40]\n",
    "        y = ['X', 'Y', 'Z']\n",
    "    Expected Output:\n",
    "        Sublists of the said list:\n",
    "        [[], [1], [2], [1, 2], [3], [1, 3], [2, 3], [1, 2, 3]]\n",
    "        [[], ['x'], ['y'], ['x', 'y'], ['z'], ['x', 'z'], ['y', 'z'], ['x', 'y', 'z']] '''\n",
    "\n",
    "def all_sublists(lst):\n",
    "    n = len(lst)\n",
    "    result = []\n",
    "    for mask in range(1 << n):              \n",
    "        sub = []\n",
    "        for j in range(n):                 \n",
    "            if mask & (1 << j):          \n",
    "                sub.append(lst[j])\n",
    "        result.append(sub)\n",
    "\n",
    "    return result\n",
    "\n",
    "x = [10, 20, 30, 40]\n",
    "y = ['X', 'Y', 'Z']\n",
    "\n",
    "print(\"Sublists of x:\", all_sublists(x))\n",
    "print(\"Sublists of y:\", all_sublists(y))\n",
    "        \n",
    "        \n",
    "        \n",
    "        "
   ]
  },
  {
   "cell_type": "code",
   "execution_count": 8,
   "metadata": {},
   "outputs": [
    {
     "name": "stdout",
     "output_type": "stream",
     "text": [
      "2\n",
      "3\n",
      "5\n",
      "7\n",
      "None\n"
     ]
    }
   ],
   "source": [
    "''' 6. Write a Python program to print all the prime numbers upto a specified number using Sieve of Eratosthenes method.\n",
    "    Data:\n",
    "        x = 10\n",
    "    Expected Output:\n",
    "        2\n",
    "        3\n",
    "        5\n",
    "        7\n",
    "        None '''\n",
    "\n",
    "def sieve_of_eratosthenes(n):\n",
    "    is_prime = [True] * (n + 1)\n",
    "    is_prime[0] = is_prime[1] = False\n",
    "    limit = int(n**0.5)\n",
    "    for i in range(2, limit + 1):\n",
    "        if is_prime[i]:\n",
    "            for j in range(i * i, n + 1, i):\n",
    "                is_prime[j] = False\n",
    "    for i in range(2, n + 1):\n",
    "        if is_prime[i]:\n",
    "            print(i)\n",
    "x = 10\n",
    "print(sieve_of_eratosthenes(x))\n",
    "        \n",
    "        \n",
    "        \n",
    "        "
   ]
  },
  {
   "cell_type": "code",
   "execution_count": 9,
   "metadata": {},
   "outputs": [
    {
     "name": "stdout",
     "output_type": "stream",
     "text": [
      "[1, 2][1, 3][1, 4][1, 5][1, 6][1, 7][1, 8][1, 9][2, 3][2, 4][2, 5][2, 6][2, 7][2, 8][2, 9][3, 4][3, 5][3, 6][3, 7][3, 8][3, 9][4, 5][4, 6][4, 7][4, 8][4, 9][5, 6][5, 7][5, 8][5, 9][6, 7][6, 8][6, 9][7, 8][7, 9][8, 9]"
     ]
    }
   ],
   "source": [
    "''' 7. Write a Python program to generate the combinations of n distinct objects taken from the elements of a given list..\n",
    "    Data:\n",
    "        Original list:\n",
    "        [1, 2, 3, 4, 5, 6, 7, 8, 9]\n",
    "    Expected Output:\n",
    "        [1, 2][1, 3][1, 4][1, 5][1, 6][1, 7][1, 8][1, 9][2, 3]\n",
    "        [2, 4][2, 5][2, 6][2, 7][2, 8][2, 9][3, 4][3, 5][3, 6]\n",
    "        [3, 7][3, 8][3, 9][4, 5][4, 6][4, 7][4, 8][4, 9][5, 6]\n",
    "        [5, 7][5, 8][5, 9][6, 7][6, 8][6, 9][7, 8][7, 9][8, 9] '''\n",
    "\n",
    "data = [1, 2, 3, 4, 5, 6, 7, 8, 9]\n",
    "\n",
    "for i in range(len(data)):\n",
    "    for j in range(i+1, len(data)):\n",
    "        print([data[i], data[j]], end='')\n",
    "\n",
    "        \n",
    "        \n",
    "        \n",
    "        "
   ]
  },
  {
   "cell_type": "code",
   "execution_count": 10,
   "metadata": {},
   "outputs": [
    {
     "name": "stdout",
     "output_type": "stream",
     "text": [
      "Multidimensional list: [[0, 0], [0, 0], [0, 0]]\n"
     ]
    }
   ],
   "source": [
    "''' 8. Write a Python program to create a multidimensional list (lists of lists) with zeros.\n",
    "    Expected Output:\n",
    "        Multidimensional list:\n",
    "        [[0, 0], [0, 0], [0, 0]] '''\n",
    "\n",
    "rows = 3\n",
    "cols = 2\n",
    "\n",
    "matrix = [[0 for _ in range(cols)] for _ in range(rows)]\n",
    "print(\"Multidimensional list:\", matrix)\n",
    "        \n",
    "        \n",
    "        \n",
    "        "
   ]
  },
  {
   "cell_type": "code",
   "execution_count": 11,
   "metadata": {},
   "outputs": [
    {
     "name": "stdout",
     "output_type": "stream",
     "text": [
      "3X3 grid with numbers: [[1, 2, 3], [1, 2, 3], [1, 2, 3]]\n"
     ]
    }
   ],
   "source": [
    "''' 9. Write a Python program to create a 3X3 grid with numbers following given range(3). \n",
    "    Expected Output:\n",
    "        3X3 grid with numbers:\n",
    "        [[1, 2, 3], [1, 2, 3], [1, 2, 3]] '''\n",
    "\n",
    "grid = []\n",
    "\n",
    "for i in range(3):\n",
    "    row = []\n",
    "    for j in range(3):\n",
    "        row.append(j + 1)\n",
    "    grid.append(row)\n",
    "\n",
    "print(\"3X3 grid with numbers:\", grid)\n",
    "        \n",
    "        \n",
    "        \n",
    "        "
   ]
  },
  {
   "cell_type": "code",
   "execution_count": 13,
   "metadata": {},
   "outputs": [
    {
     "name": "stdin",
     "output_type": "stream",
     "text": [
      "Input rows:  3\n",
      "Input columns:  3\n",
      "Input elements of row 1 (separated by space):  2 2 2\n",
      "Input elements of row 2 (separated by space):  3 3 3\n",
      "Input elements of row 3 (separated by space):  4 4 4\n"
     ]
    },
    {
     "name": "stdout",
     "output_type": "stream",
     "text": [
      "sum for each column:\n",
      "9 9 9\n"
     ]
    }
   ],
   "source": [
    "''' 10. Write a Python program to print the sum of each column in a matrix. Accept matrix rows, \n",
    "            columns and elements for each column separated with a space for every row as input from the user.\n",
    "    Data:\n",
    "        Input rows: 3\n",
    "        Input columns: 3\n",
    "        Input number of elements in a row (1, 2, 3): \n",
    "        2 2 2\n",
    "        3 3 3\n",
    "        4 4 4\n",
    "    Expected Output:\n",
    "        sum for each column:\n",
    "        9  9  9  '''\n",
    "\n",
    "m = int(input(\"Input rows: \"))\n",
    "n = int(input(\"Input columns: \"))\n",
    "matrix = []\n",
    "for i in range(m):\n",
    "    row = list(map(int, input(f\"Input elements of row {i+1} (separated by space): \").split()))\n",
    "    if len(row) != n:\n",
    "        raise ValueError(f\"Expected {n} elements but got {len(row)}\")\n",
    "    matrix.append(row)\n",
    "\n",
    "col_sums = []            \n",
    "for j in range(n):\n",
    "    s = 0\n",
    "    for i in range(m):\n",
    "        s += matrix[i][j]\n",
    "    col_sums.append(s)\n",
    "\n",
    "print(\"sum for each column:\")\n",
    "print(\" \".join(str(x) for x in col_sums))\n",
    "        \n",
    "        \n",
    "        \n",
    "        "
   ]
  },
  {
   "cell_type": "code",
   "execution_count": 14,
   "metadata": {},
   "outputs": [
    {
     "name": "stdout",
     "output_type": "stream",
     "text": [
      "Count 1 in the said list: 3\n",
      "Count 7 in the said list: 2\n"
     ]
    }
   ],
   "source": [
    "''' 11. Write a Python program to count the number of sublists that contains a particular element.\n",
    "    Data:\n",
    "        Original list:\n",
    "        [[1, 3], [5, 7], [1, 11], [1, 15, 7]]\n",
    "    Expected Output:\n",
    "        Count 1 in the said list: 3\n",
    "        Count 7 in the said list: 2 '''\n",
    "\n",
    "data = [[1, 3], [5, 7], [1, 11], [1, 15, 7]]\n",
    "def count_sublists_with_element(lst, element):\n",
    "    count = 0\n",
    "    for sub in lst:\n",
    "        if element in sub:\n",
    "            count += 1\n",
    "    return count\n",
    "\n",
    "for target in (1, 7):\n",
    "    result = count_sublists_with_element(data, target)\n",
    "    print(f\"Count {target} in the said list: {result}\")\n",
    "        \n",
    "        \n",
    "        \n",
    "        "
   ]
  },
  {
   "cell_type": "code",
   "execution_count": 15,
   "metadata": {},
   "outputs": [
    {
     "name": "stdout",
     "output_type": "stream",
     "text": [
      "Number of integers in the said mixed list: 6\n"
     ]
    }
   ],
   "source": [
    "''' 12. Write a Python program to count integer in a given mixed list.\n",
    "    Data:\n",
    "        list:[1, 'abcd', 3, 1.2, 4, 'xyz', 5, 'pqr', 7, -5, -12.22]\n",
    "    Expected Output:\n",
    "        Number of integers in the said mixed list:\n",
    "        6 '''\n",
    "\n",
    "mixed_list = [1, 'abcd', 3, 1.2, 4, 'xyz', 5, 'pqr', 7, -5, -12.22]\n",
    "count = 0\n",
    "for item in mixed_list:\n",
    "    if isinstance(item, int):\n",
    "        count += 1\n",
    "print(\"Number of integers in the said mixed list:\", count)\n",
    "        \n",
    "        \n",
    "        \n",
    "        "
   ]
  },
  {
   "cell_type": "code",
   "execution_count": 16,
   "metadata": {},
   "outputs": [
    {
     "name": "stdout",
     "output_type": "stream",
     "text": [
      "Item with maximum occurrences of the said list:\n",
      "2\n"
     ]
    }
   ],
   "source": [
    "''' 13. Write a Python program to find an element with maximum occurrences in a given list. \n",
    "    Data:\n",
    "        list:[2, 3, 8, 4, 7, 9, 8, 2, 6, 5, 1, 6, 1, 2, 3, 4, 6, 9, 1, 2]\n",
    "    Expected Output:\n",
    "        Item with maximum occurrences of the said list:\n",
    "        2 '''\n",
    "\n",
    "data_list = [2, 3, 8, 4, 7, 9, 8, 2, 6, 5, 1, 6, 1, 2, 3, 4, 6, 9, 1, 2]\n",
    "counts = {}\n",
    "for item in data_list:\n",
    "    if item in counts:\n",
    "        counts[item] += 1\n",
    "    else:\n",
    "        counts[item] = 1\n",
    "max_item = None\n",
    "max_count = 0\n",
    "for item, count in counts.items():\n",
    "    if count > max_count:\n",
    "        max_count = count\n",
    "        max_item = item\n",
    "\n",
    "print(f\"Item with maximum occurrences of the said list:\\n{max_item}\")\n",
    "    \n",
    "    \n",
    "    "
   ]
  },
  {
   "cell_type": "code",
   "execution_count": 17,
   "metadata": {},
   "outputs": [
    {
     "name": "stdout",
     "output_type": "stream",
     "text": [
      "Character list:\n",
      "['#', 'color', '@']\n",
      "\n",
      "New list:\n",
      "['Red', 'Orange', 'Green', 'Orange', 'White']\n"
     ]
    }
   ],
   "source": [
    "''' 14. Write a Python program to remove those items which contain a special character or specified string from the given list.\n",
    "    Data:\n",
    "        list1: ['Red color', 'Orange#', 'Green', 'Orange @', 'White']\n",
    "    Expected Output:\n",
    "        Character list:\n",
    "        ['#', 'color', '@']\n",
    "\n",
    "        New list:\n",
    "        ['Red', '', 'Green', 'Orange', 'White'] '''\n",
    "\n",
    "list1      = ['Red color', 'Orange#', 'Green', 'Orange @', 'White']\n",
    "to_remove  = ['#', 'color', '@']\n",
    "\n",
    "char_list = []   \n",
    "new_list  = []   \n",
    "\n",
    "for item in list1:\n",
    "    tmp = item\n",
    "    for sub in to_remove:\n",
    "        if sub in tmp:\n",
    "            char_list.append(sub)\n",
    "            tmp = tmp.replace(sub, '')\n",
    "    new_list.append(tmp.strip())\n",
    "\n",
    "char_list = [sub for sub in to_remove if sub in char_list]\n",
    "\n",
    "print(\"Character list:\")\n",
    "print(char_list)\n",
    "\n",
    "print(\"\\nNew list:\")\n",
    "print(new_list)\n",
    "        \n",
    "        \n",
    "        \n",
    "        "
   ]
  },
  {
   "cell_type": "code",
   "execution_count": 18,
   "metadata": {},
   "outputs": [
    {
     "name": "stdout",
     "output_type": "stream",
     "text": [
      "Range: 8 , 10\n",
      "Sum of the specified range: 29\n"
     ]
    }
   ],
   "source": [
    "''' 15. Write a Python program to calculate the sum of the numbers in a list between the specified range of indices.\n",
    "    Data:\n",
    "        list:[2, 1, 5, 6, 8, 3, 4, 9, 10, 11, 8, 12]\n",
    "    Expected Output:\n",
    "        Range: 8 , 10\n",
    "        Sum of the specified range: 29 '''\n",
    "\n",
    "data = [2, 1, 5, 6, 8, 3, 4, 9, 10, 11, 8, 12]\n",
    "start, end = 8, 10\n",
    "total = 0\n",
    "\n",
    "for i in range(start, end + 1):\n",
    "    total += data[i]\n",
    "print(f\"Range: {start} , {end}\")\n",
    "print(\"Sum of the specified range:\", total)\n",
    "        \n",
    "        \n",
    "        \n",
    "        "
   ]
  },
  {
   "cell_type": "code",
   "execution_count": 19,
   "metadata": {},
   "outputs": [
    {
     "name": "stdout",
     "output_type": "stream",
     "text": [
      "Reverse each list in the said list of lists:\n",
      "[[4, 3, 2, 1], [8, 7, 6, 5], [12, 11, 10, 9], [16, 15, 14, 13]]\n"
     ]
    }
   ],
   "source": [
    "''' 16. Write a Python program to reverse each list in a given list of lists.\n",
    "    Data:\n",
    "        Original list of lists:\n",
    "        nums = [[1, 2, 3, 4], [5, 6, 7, 8], [9, 10, 11, 12], [13, 14, 15, 16]] \n",
    "    Expected Output:\n",
    "        Reverse each list in the said list of lists:\n",
    "        [[4, 3, 2, 1], [8, 7, 6, 5], [12, 11, 10, 9], [16, 15, 14, 13]] '''\n",
    "\n",
    "nums = [[1, 2, 3, 4],\n",
    "        [5, 6, 7, 8],\n",
    "        [9, 10, 11, 12],\n",
    "        [13, 14, 15, 16]]\n",
    "\n",
    "reversed_nums = []\n",
    "\n",
    "for sublist in nums:\n",
    "    reversed_sublist = sublist[::-1]\n",
    "    reversed_nums.append(reversed_sublist)\n",
    "\n",
    "print(\"Reverse each list in the said list of lists:\")\n",
    "print(reversed_nums)\n",
    "        \n",
    "        \n",
    "        \n",
    "        "
   ]
  },
  {
   "cell_type": "code",
   "execution_count": 20,
   "metadata": {},
   "outputs": [
    {
     "name": "stdout",
     "output_type": "stream",
     "text": [
      "Difference between two said list (including duplicate elements):\n",
      "[3, 3, 4, 7]\n"
     ]
    }
   ],
   "source": [
    "''' 17. Write a Python program to find the difference between two lists including duplicate elements.\n",
    "    Data:\n",
    "        Original lists:\n",
    "        x = [1,1,2,3,3,4,4,5,6,7]\n",
    "        y = [1,1,2,4,5,6]\n",
    "    Expected Output:\n",
    "        Difference between two said list (including duplicate elements):\n",
    "        [3, 3, 4, 7] '''\n",
    "\n",
    "x = [1, 1, 2, 3, 3, 4, 4, 5, 6, 7]\n",
    "y = [1, 1, 2, 4, 5, 6]\n",
    "y_copy = y.copy()\n",
    "diff = []\n",
    "\n",
    "for item in x:\n",
    "    if item in y_copy:\n",
    "        y_copy.remove(item)\n",
    "    else:\n",
    "\n",
    "        diff.append(item)\n",
    "\n",
    "print(\"Difference between two said list (including duplicate elements):\")\n",
    "print(diff)\n",
    "        \n",
    "        \n",
    "        \n",
    "        "
   ]
  },
  {
   "cell_type": "code",
   "execution_count": 21,
   "metadata": {},
   "outputs": [
    {
     "name": "stdout",
     "output_type": "stream",
     "text": [
      "Pairing of consecutive elements:\n",
      "[(1, 1), (1, 2), (2, 3), (3, 3), (3, 4), (4, 4), (4, 5)]\n"
     ]
    }
   ],
   "source": [
    "''' 18. Write a Python program to print consecutive elements pairing from the given list. \n",
    "    Data:\n",
    "        Original lists:\n",
    "        lists:[1, 1, 2, 3, 3, 4, 4, 5]\n",
    "    Expected Output:\n",
    "        Pairing of consecutive elements:\n",
    "        [(1, 1), (1, 2), (2, 3), (3, 3), (3, 4), (4, 4), (4, 5)] '''\n",
    "\n",
    "lists = [1, 1, 2, 3, 3, 4, 4, 5]\n",
    "pairs = []\n",
    "\n",
    "for i in range(len(lists) - 1):\n",
    "\n",
    "    pair = (lists[i], lists[i + 1])\n",
    "    pairs.append(pair)\n",
    "\n",
    "print(\"Pairing of consecutive elements:\")\n",
    "print(pairs)\n",
    "        \n",
    "        \n",
    "        \n",
    "        \n",
    "        "
   ]
  },
  {
   "cell_type": "code",
   "execution_count": 22,
   "metadata": {},
   "outputs": [
    {
     "name": "stdout",
     "output_type": "stream",
     "text": [
      "After removing duplicate words: ['Python', 'Exercises', 'Practice', 'Solution']\n"
     ]
    }
   ],
   "source": [
    "''' 19. Write a Python program to remove duplicate words from the given list of strings.\n",
    "    Data:\n",
    "        Original String:\n",
    "        ['Python', 'Exercises', 'Practice', 'Solution', 'Exercises']\n",
    "    Expected Output:\n",
    "        After removing duplicate words from the said list of strings:\n",
    "        ['Python', 'Exercises', 'Practice', 'Solution'] '''\n",
    "\n",
    "original_list = ['Python', 'Exercises', 'Practice', 'Solution', 'Exercises']\n",
    "unique_words = []\n",
    "for word in original_list:\n",
    "    if word not in unique_words:\n",
    "        unique_words.append(word)\n",
    "\n",
    "print(\"After removing duplicate words:\", unique_words)\n",
    "\n",
    "        \n",
    "        \n",
    "        "
   ]
  },
  {
   "cell_type": "code",
   "execution_count": 23,
   "metadata": {},
   "outputs": [
    {
     "name": "stdout",
     "output_type": "stream",
     "text": [
      "Remove words:\n",
      "['white', 'orange']\n",
      "\n",
      "After removing the specified words from the said list:\n",
      "['red', 'green', 'blue', 'black']\n"
     ]
    }
   ],
   "source": [
    "''' 20. Write a Python program to remove specific words from the given list. \n",
    "    Data:\n",
    "        Original list:\n",
    "        list:['red', 'green', 'blue', 'white', 'black', 'orange']\n",
    "    Expected Output:\n",
    "        Remove words:\n",
    "        ['white', 'orange']\n",
    "\n",
    "        After removing the specified words from the said list:\n",
    "        ['red', 'green', 'blue', 'black'] '''\n",
    "\n",
    "original_list = ['red', 'green', 'blue', 'white', 'black', 'orange']\n",
    "remove_words   = ['white', 'orange']\n",
    "\n",
    "filtered_list = []\n",
    "for color in original_list:\n",
    "    if color not in remove_words:\n",
    "        filtered_list.append(color)\n",
    "\n",
    "print(\"Remove words:\")\n",
    "print(remove_words)\n",
    "print(\"\\nAfter removing the specified words from the said list:\")\n",
    "print(filtered_list)\n",
    "        \n",
    "        \n",
    "        \n",
    "        "
   ]
  }
 ],
 "metadata": {
  "kernelspec": {
   "display_name": "Python 3 (ipykernel)",
   "language": "python",
   "name": "python3"
  },
  "language_info": {
   "codemirror_mode": {
    "name": "ipython",
    "version": 3
   },
   "file_extension": ".py",
   "mimetype": "text/x-python",
   "name": "python",
   "nbconvert_exporter": "python",
   "pygments_lexer": "ipython3",
   "version": "3.12.7"
  }
 },
 "nbformat": 4,
 "nbformat_minor": 4
}
