{
 "cells": [
  {
   "cell_type": "markdown",
   "metadata": {},
   "source": [
    "# String Simple Questions"
   ]
  },
  {
   "cell_type": "code",
   "execution_count": 7,
   "metadata": {},
   "outputs": [
    {
     "name": "stdout",
     "output_type": "stream",
     "text": [
      "6\n"
     ]
    }
   ],
   "source": [
    "# 1. Write a Python program to calculate the length of a given string.\n",
    "#     # Data:\n",
    "#     #     \"Baskar\"\n",
    "#     # Expected Output:\n",
    "#     #     6\n",
    "        \n",
    "\n",
    "s=\"Baskar\"\n",
    "print(len(s))\n",
    "        \n",
    "        \n",
    "        "
   ]
  },
  {
   "cell_type": "code",
   "execution_count": 2,
   "metadata": {},
   "outputs": [
    {
     "name": "stdout",
     "output_type": "stream",
     "text": [
      "ython\n",
      "Pyton\n",
      "Pytho\n"
     ]
    }
   ],
   "source": [
    "# 2. Write a Python program to remove the character of the nth index from a given string. \n",
    "#     Data:\n",
    "#         \"Python\"\n",
    "#     Expected Output:\n",
    "#         ython\n",
    "#         Pyton\n",
    "#         Pytho\n",
    "\n",
    "def remove_nth_char(s, n):\n",
    "    return s[:n] + s[n+1:]\n",
    "string = \"Python\"\n",
    "\n",
    "print(remove_nth_char(string, 0))  \n",
    "print(remove_nth_char(string, 3))  \n",
    "print(remove_nth_char(string, 5)) \n",
    "    \n",
    "    \n",
    "    \n",
    "    "
   ]
  },
  {
   "cell_type": "code",
   "execution_count": 10,
   "metadata": {},
   "outputs": [
    {
     "name": "stdout",
     "output_type": "stream",
     "text": [
      "dbca\n",
      "52341\n"
     ]
    }
   ],
   "source": [
    "# 3. Write a Python program to interchange the first and last character of a given string.\n",
    "#     Data:\n",
    "#         'abcd'\n",
    "#         '12345'\n",
    "#     Expected Output:\n",
    "#         dbca\n",
    "#         52341\n",
    "\n",
    "def swap_first_last(s):\n",
    "    if len(s) <= 1:\n",
    "        return s\n",
    "    return s[-1] + s[1:-1] + s[0]\n",
    "\n",
    "print(swap_first_last('abcd'))   \n",
    "print(swap_first_last('12345'))\n",
    "        \n",
    "        \n",
    "        \n",
    "        "
   ]
  },
  {
   "cell_type": "code",
   "execution_count": 11,
   "metadata": {},
   "outputs": [
    {
     "name": "stdout",
     "output_type": "stream",
     "text": [
      "ace\n",
      "pto\n"
     ]
    }
   ],
   "source": [
    "# 4. Write a Python program to remove the values of the odd index from a given string.\n",
    "#     Data:\n",
    "#         'abcdef'\n",
    "#         'python'\n",
    "#     Expected Output:\n",
    "#         ace\n",
    "#         pto\n",
    "        \n",
    "        \n",
    "\n",
    "def remove_odd_index_values(s):\n",
    "    return s[::2]\n",
    "\n",
    "data = ['abcdef', 'python']\n",
    "\n",
    "for item in data:\n",
    "    print(remove_odd_index_values(item))\n",
    "        "
   ]
  },
  {
   "cell_type": "code",
   "execution_count": 12,
   "metadata": {},
   "outputs": [
    {
     "name": "stdin",
     "output_type": "stream",
     "text": [
      "What's your favourite language:  TAMIL\n"
     ]
    },
    {
     "name": "stdout",
     "output_type": "stream",
     "text": [
      "My favourite language is TAMIL\n",
      "My favourite language is tamil\n"
     ]
    }
   ],
   "source": [
    "# 5. Write a Python program to get input from the user and print the input back in uppercase.\n",
    "#     Data:\n",
    "#         Whats your favourite language: Tamil\n",
    "#     Expected Output:\n",
    "#         My favourite language is  TAMIL\n",
    "#         My favourite language is  tamil\n",
    "        \n",
    "\n",
    "language = input(\"What's your favourite language: \")\n",
    "\n",
    "print(\"My favourite language is\", language.upper())\n",
    "print(\"My favourite language is\", language.lower())  \n",
    "        \n",
    "        "
   ]
  },
  {
   "cell_type": "code",
   "execution_count": 14,
   "metadata": {},
   "outputs": [
    {
     "name": "stdin",
     "output_type": "stream",
     "text": [
      "Enter comma separated words:  red, white, black, red, green, black\n"
     ]
    },
    {
     "name": "stdout",
     "output_type": "stream",
     "text": [
      "black, green, red, white\n"
     ]
    }
   ],
   "source": [
    "# 6. Write a Python program that accepts a comma separated sequence of words as input and print only the unique strings in sorted.\n",
    "#     Data:\n",
    "#         Words : red, white, black, red, green, black\n",
    "#     Expected Output:\n",
    "#         black, green, red, white\n",
    "        \n",
    "\n",
    "input_words = input(\"Enter comma separated words: \")\n",
    "\n",
    "words = [word.strip() for word in input_words.split(',')]\n",
    "\n",
    "unique_sorted_words = sorted(set(words))\n",
    "\n",
    "print(', '.join(unique_sorted_words))       \n",
    "        \n",
    "        "
   ]
  },
  {
   "cell_type": "code",
   "execution_count": 16,
   "metadata": {},
   "outputs": [
    {
     "name": "stdout",
     "output_type": "stream",
     "text": [
      "<i>Python</i>\n",
      "<b>Python Tutorial</b>\n"
     ]
    }
   ],
   "source": [
    "# 7. Write a Python function to create the HTML string with tags around the string.\n",
    "#     Data:\n",
    "#         ('i', 'Python')\n",
    "#         ('b', 'Python Tutorial')\n",
    "#     Expected Output:\n",
    "#         <i>Python</i>\n",
    "#         <b>Python Tutorial </b>\n",
    "\n",
    "def add_html_tag(tag, text):\n",
    "    return f\"<{tag}>{text}</{tag}>\"\n",
    "\n",
    "print(add_html_tag('i', 'Python'))           \n",
    "print(add_html_tag('b', 'Python Tutorial'))\n",
    "        \n",
    "        \n",
    "        "
   ]
  },
  {
   "cell_type": "code",
   "execution_count": 17,
   "metadata": {},
   "outputs": [
    {
     "name": "stdout",
     "output_type": "stream",
     "text": [
      "[[Python]]\n",
      "{{PHP}}\n"
     ]
    }
   ],
   "source": [
    "# 8. Write a Python function to insert the second string in the middle of a first string.\n",
    "#     Data:\n",
    "#         ('[[]]', 'Python')\n",
    "#         ('{{}}', 'PHP')\n",
    "#     Expected Output:\n",
    "#         [[Python]]\n",
    "#         {{PHP}}\n",
    "        \n",
    "def insert_in_middle(s1, s2):\n",
    "    mid = len(s1) // 2\n",
    "    return s1[:mid] + s2 + s1[mid:]\n",
    "\n",
    "print(insert_in_middle('[[]]', 'Python')) \n",
    "print(insert_in_middle('{{}}', 'PHP'))\n",
    "        \n",
    "        "
   ]
  },
  {
   "cell_type": "code",
   "execution_count": 3,
   "metadata": {},
   "outputs": [
    {
     "name": "stdout",
     "output_type": "stream",
     "text": [
      "onononon\n"
     ]
    }
   ],
   "source": [
    "# 9. Write a Python function to get a string made of 4 copies of the last two characters of a specified string \n",
    "#     (length must be at least 2).\n",
    "#     Data:\n",
    "#         'Python'\n",
    "#     Expected Output:\n",
    "#         onononon\n",
    "        \n",
    "def four_copies_last_two(s):\n",
    "    last_two = s[-2:]\n",
    "    return last_two * 4\n",
    "\n",
    "\n",
    "result = four_copies_last_two('Python')\n",
    "print(result)      \n",
    "        \n",
    "        "
   ]
  },
  {
   "cell_type": "code",
   "execution_count": 19,
   "metadata": {},
   "outputs": [
    {
     "name": "stdout",
     "output_type": "stream",
     "text": [
      "ipy\n",
      "pyt\n"
     ]
    }
   ],
   "source": [
    "# 10. Write a Python function to get a string made of its first three characters of a specified string. \n",
    "#     If the length of the string is less than 3 then return the original string.\n",
    "#     Data:\n",
    "#         'ipy'\n",
    "#         'python'\n",
    "#     Expected Output:\n",
    "#         ipy\n",
    "#         pyt\n",
    "\n",
    "def first_three_chars(s):\n",
    "    if len(s) < 3:\n",
    "        return s\n",
    "    else:\n",
    "        return s[:3]\n",
    "\n",
    "\n",
    "print(first_three_chars('ipy'))     \n",
    "print(first_three_chars('python'))\n",
    "        \n",
    "        \n",
    "        \n",
    "        "
   ]
  },
  {
   "cell_type": "code",
   "execution_count": 20,
   "metadata": {},
   "outputs": [
    {
     "name": "stdout",
     "output_type": "stream",
     "text": [
      "dcba\n",
      "python\n"
     ]
    }
   ],
   "source": [
    "# 11. Write a Python function to reverse a string if its length is a multiple of 4.\n",
    "#     Data:\n",
    "#         'abcd'\n",
    "#         'python'\n",
    "#     Expected Output:\n",
    "#         dcba\n",
    "#         python\n",
    "\n",
    "\n",
    "def reverse_if_multiple_of_4(s):\n",
    "    if len(s) % 4 == 0:\n",
    "        return s[::-1]\n",
    "    else:\n",
    "        return s\n",
    "\n",
    "\n",
    "print(reverse_if_multiple_of_4('abcd'))    \n",
    "print(reverse_if_multiple_of_4('python'))\n",
    "        \n",
    "        \n",
    "        "
   ]
  },
  {
   "cell_type": "code",
   "execution_count": 21,
   "metadata": {},
   "outputs": [
    {
     "name": "stdout",
     "output_type": "stream",
     "text": [
      "https://www.aidinasaur.com/python-exercises\n",
      "https://www.aidinasaur.com\n"
     ]
    }
   ],
   "source": [
    "# 12. Write a Python program to get the last part of a string before a specified character.\n",
    "#     Data:\n",
    "#         str1 = 'https://www.aidinasaur.com/python-exercises/string'\n",
    "#     Expected Output:\n",
    "#         https://www.aidinasaur.com/python-exercises\n",
    "#         https://www.aidinasaur.com/python\n",
    "\n",
    "str1 = 'https://www.aidinasaur.com/python-exercises/string'\n",
    "sep = '/'\n",
    "\n",
    "part1 = str1.rsplit(sep, 1)[0]\n",
    "print(part1)\n",
    "\n",
    "part2 = part1.rsplit(sep, 1)[0]\n",
    "print(part2)\n",
    "            \n",
    "            \n",
    "            \n",
    "            "
   ]
  },
  {
   "cell_type": "code",
   "execution_count": 22,
   "metadata": {},
   "outputs": [
    {
     "name": "stdout",
     "output_type": "stream",
     "text": [
      "['a', 'a', 'a', 'd', 'i', 'i', 'n', 'r', 's', 'u']\n"
     ]
    }
   ],
   "source": [
    "# 13. Write a Python program to sort a string lexicographically.\n",
    "#     Data:\n",
    "#         aidinasaur\n",
    "#     Expected Output: \n",
    "#         ['a', 'a', 'a', 'd', 'i', 'i', 'n', 'r', 's', 'u']\n",
    "        \n",
    "\n",
    "data = \"aidinasaur\"\n",
    "\n",
    "sorted_chars = sorted(data)\n",
    "\n",
    "print(sorted_chars)\n",
    "    \n",
    "    "
   ]
  },
  {
   "cell_type": "code",
   "execution_count": 27,
   "metadata": {},
   "outputs": [
    {
     "name": "stdout",
     "output_type": "stream",
     "text": [
      "Python Exercises\n",
      "Python Exercises\n"
     ]
    }
   ],
   "source": [
    "# 14. Write a Python program to remove a newline in Python.\n",
    "#     Data:\n",
    "#         'Python Exercises\\n'\n",
    "#     Expected Output: \n",
    "#         Python Exercises\n",
    "\n",
    "#         Python Exercises\n",
    "        \n",
    "data = 'Python Exercises\\n'\n",
    "\n",
    "result = data.rstrip()\n",
    "\n",
    "print(result)\n",
    "print(result)        \n",
    "        \n",
    "        "
   ]
  },
  {
   "cell_type": "code",
   "execution_count": 28,
   "metadata": {},
   "outputs": [
    {
     "name": "stdout",
     "output_type": "stream",
     "text": [
      "True\n"
     ]
    }
   ],
   "source": [
    "# 15. Write a Python program to check whether a string starts with specified character.\n",
    "#     Data:\n",
    "#         aidinasaur.com\n",
    "#     Expected Output:\n",
    "#         True\n",
    "        \n",
    "\n",
    "string = \"aidinasaur.com\"\n",
    "\n",
    "specified_char = \"a\"\n",
    "\n",
    "result = string.startswith(specified_char)\n",
    "\n",
    "print(result)\n",
    "        \n",
    "        "
   ]
  },
  {
   "cell_type": "code",
   "execution_count": 29,
   "metadata": {},
   "outputs": [
    {
     "name": "stdout",
     "output_type": "stream",
     "text": [
      "2\n"
     ]
    }
   ],
   "source": [
    "# 16. Write a Python program to count the number of occurrences of a substring in a string.\n",
    "#     Data:\n",
    "#         \"Word to publish Word docs as web pages\"\n",
    "#         count = \"word\"\n",
    "#     Expected Output:\n",
    "#         2\n",
    "        \n",
    "data = \"Word to publish Word docs as web pages\"\n",
    "count = \"word\"\n",
    "\n",
    "occurrences = data.lower().count(count.lower())\n",
    "\n",
    "print(occurrences)     \n",
    "        \n",
    "        "
   ]
  },
  {
   "cell_type": "code",
   "execution_count": 30,
   "metadata": {},
   "outputs": [
    {
     "name": "stdout",
     "output_type": "stream",
     "text": [
      "fedcba\n",
      ".sesicrexE nohtyP\n"
     ]
    }
   ],
   "source": [
    "# 17. Write a Python program to reverse a string.\n",
    "#     Data:\n",
    "#         \"abcdef\"\n",
    "#         \"Python Exercises.\"\n",
    "#     Expected Output:\n",
    "#         fedcba\n",
    "#         .sesicrexE nohtyP\n",
    "\n",
    "\n",
    "def reverse_string(s):\n",
    "    return s[::-1]\n",
    "\n",
    "data = [\"abcdef\", \"Python Exercises.\"]\n",
    "\n",
    "for item in data:\n",
    "    print(reverse_string(item))\n",
    "        \n",
    "        \n",
    "        "
   ]
  },
  {
   "cell_type": "code",
   "execution_count": 31,
   "metadata": {},
   "outputs": [
    {
     "name": "stdout",
     "output_type": "stream",
     "text": [
      "aidiNASAUR.COM\n"
     ]
    }
   ],
   "source": [
    "# 18. Write a Python program to lowercase first n characters in a string.\n",
    "#     Data:\n",
    "#         \"AIDINASAUR.COM\"\n",
    "#     Expected Output:  \n",
    "#         aidiNASAUR.COM\n",
    "\n",
    "def lowercase_first_n(s, n):\n",
    "    return s[:n].lower() + s[n:]\n",
    "\n",
    "data = \"AIDINASAUR.COM\"\n",
    "n = 4\n",
    "result = lowercase_first_n(data, n)\n",
    "print(result)\n",
    "        \n",
    "        \n",
    "        "
   ]
  },
  {
   "cell_type": "code",
   "execution_count": 34,
   "metadata": {},
   "outputs": [
    {
     "name": "stdout",
     "output_type": "stream",
     "text": [
      "32,054.23\n"
     ]
    }
   ],
   "source": [
    "# 19. Write a Python program to swap comma and dot in a string.\n",
    "#     Data:\n",
    "#         \"32.054,23\"\n",
    "#     Expected Output:\n",
    "#         \"32,054.23\"\n",
    "\n",
    "data = \"32.054,23\"\n",
    "temp = data.replace('.', '#')\n",
    "temp = temp.replace(',', '.')\n",
    "result = temp.replace('#', ',')\n",
    "print(result)\n",
    "        \n",
    "        \n",
    "        "
   ]
  },
  {
   "cell_type": "code",
   "execution_count": 36,
   "metadata": {},
   "outputs": [
    {
     "name": "stdout",
     "output_type": "stream",
     "text": [
      "7\n",
      "['A', 'I', 'I', 'A', 'A', 'U', 'O']\n"
     ]
    }
   ],
   "source": [
    "# 20. Write a Python program to count and display the vowels of a given text.\n",
    "#     Data:\n",
    "#         \"AIDINASAUR.COM\"\n",
    "#     Expected Output:\n",
    "#         7\n",
    "#         ['A', 'I', 'I', 'A', 'A', 'U', 'O']\n",
    "        \n",
    "text = \"AIDINASAUR.COM\"\n",
    "vowels = \"AEIOU\"\n",
    "found_vowels = [char for char in text if char in vowels]\n",
    "print(len(found_vowels))\n",
    "print(found_vowels)       \n",
    "        \n",
    "        "
   ]
  }
 ],
 "metadata": {
  "kernelspec": {
   "display_name": "Python 3 (ipykernel)",
   "language": "python",
   "name": "python3"
  },
  "language_info": {
   "codemirror_mode": {
    "name": "ipython",
    "version": 3
   },
   "file_extension": ".py",
   "mimetype": "text/x-python",
   "name": "python",
   "nbconvert_exporter": "python",
   "pygments_lexer": "ipython3",
   "version": "3.12.7"
  }
 },
 "nbformat": 4,
 "nbformat_minor": 4
}
