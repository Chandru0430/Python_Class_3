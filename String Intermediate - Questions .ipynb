{
 "cells": [
  {
   "cell_type": "markdown",
   "metadata": {},
   "source": [
    "# String Intermediate Questions "
   ]
  },
  {
   "cell_type": "code",
   "execution_count": 1,
   "metadata": {},
   "outputs": [
    {
     "name": "stdout",
     "output_type": "stream",
     "text": [
      "{'a': 3, 'i': 2, 'd': 1, 'n': 1, 's': 1, 'u': 1, 'r': 1, '.': 1, 'c': 1, 'o': 1, 'm': 1}\n"
     ]
    }
   ],
   "source": [
    "# 1. Write a Python program to count the number of each character in a string.\n",
    "#     Data:\n",
    "#         \"aidinasaur.com\"\n",
    "#     Expected Output:\n",
    "#         {'a': 3, 'i': 2, 'd': 1, 'n': 1, 's': 1, 'u': 1, 'r': 1, '.': 1, 'c': 1, 'o': 1, 'm': 1}\n",
    "\n",
    "data = \"aidinasaur.com\"\n",
    "char_count = {}\n",
    "\n",
    "for char in data:\n",
    "    if char in char_count:\n",
    "        char_count[char] += 1\n",
    "    else:\n",
    "        char_count[char] = 1\n",
    "\n",
    "print(char_count)\n",
    "        \n",
    "        \n",
    "        \n",
    "        "
   ]
  },
  {
   "cell_type": "code",
   "execution_count": 3,
   "metadata": {},
   "outputs": [
    {
     "name": "stdout",
     "output_type": "stream",
     "text": [
      "aiur\n",
      "aiai\n",
      "\n"
     ]
    }
   ],
   "source": [
    "# 2. Write a Python program to get a string made of the first 2 and the last 2 chars from a given a string. \n",
    "#    If the string length is less than 2, return instead of the empty string.\n",
    "#     Data:\n",
    "#         'aidinasaur'\n",
    "#         'ai'\n",
    "#         'a'\n",
    "#     Expected Output:\n",
    "#         aiur\n",
    "#         aiai\n",
    "\n",
    "def both_ends(s):\n",
    "    if len(s) < 2:\n",
    "        return ''\n",
    "    return s[:2] + s[-2:]\n",
    "\n",
    "data = ['aidinasaur', 'ai', 'a']\n",
    "for item in data:\n",
    "    print(both_ends(item))\n",
    "        \n",
    "        \n",
    "        \n",
    "        "
   ]
  },
  {
   "cell_type": "code",
   "execution_count": 4,
   "metadata": {},
   "outputs": [
    {
     "name": "stdout",
     "output_type": "stream",
     "text": [
      "resta$t\n"
     ]
    }
   ],
   "source": [
    "# 3. Write a Python program to get a string from a given string where all occurrences of its first char have been changed to '$',\n",
    "#    except the first char itself. \n",
    "#     Data:\n",
    "#         'restart'\n",
    "#     Expected Output:\n",
    "#         resta$t\n",
    "\n",
    "def change_char(input_str):\n",
    "    first_char = input_str[0]\n",
    "    modified_str = first_char + input_str[1:].replace(first_char, '$')\n",
    "    return modified_str\n",
    "\n",
    "data = 'restart'\n",
    "result = change_char(data)\n",
    "print(result)\n",
    "        \n",
    "        \n",
    "        \n"
   ]
  },
  {
   "cell_type": "code",
   "execution_count": 5,
   "metadata": {},
   "outputs": [
    {
     "name": "stdout",
     "output_type": "stream",
     "text": [
      "xyc abz\n"
     ]
    }
   ],
   "source": [
    "# 4. Write a Python program to get a single string from two given strings, separated by a space and swap \n",
    "#    the first two characters of each string. \n",
    "#     Data:\n",
    "#         'abc', 'xyz'\n",
    "#     Expected Output:\n",
    "#         xyc abz\n",
    "\n",
    "str1 = 'abc'\n",
    "str2 = 'xyz'\n",
    "new_str1 = str2[:2] + str1[2:]\n",
    "new_str2 = str1[:2] + str2[2:]\n",
    "\n",
    "result = new_str1 + ' ' + new_str2\n",
    "\n",
    "print(result)\n",
    "        \n",
    "        \n",
    "        \n"
   ]
  },
  {
   "cell_type": "code",
   "execution_count": 6,
   "metadata": {},
   "outputs": [
    {
     "name": "stdout",
     "output_type": "stream",
     "text": [
      "abcing\n",
      "stringly\n"
     ]
    }
   ],
   "source": [
    "# 5. Write a Python program to add 'ing' at the end of a given string (length should be at least 3).If the given string already \n",
    "#    ends with 'ing' then add 'ly' instead.If the string length of the given string is less than 3, leave it unchanged.\n",
    "#     Data:\n",
    "#         'abc'\n",
    "#         'string'\n",
    "#     Expected Output:\n",
    "#         abcing\n",
    "#         stringly\n",
    "\n",
    "def add_ing_or_ly(s):\n",
    "    if len(s) < 3:\n",
    "        return s\n",
    "    elif s.endswith('ing'):\n",
    "        return s + 'ly'\n",
    "    else:\n",
    "        return s + 'ing'\n",
    "\n",
    "data = ['abc', 'string']\n",
    "\n",
    "for word in data:\n",
    "    print(add_ing_or_ly(word))\n",
    "        \n",
    "        \n",
    "        \n",
    "        "
   ]
  },
  {
   "cell_type": "code",
   "execution_count": 14,
   "metadata": {},
   "outputs": [
    {
     "name": "stdout",
     "output_type": "stream",
     "text": [
      "The lyrics is poor!\n",
      "The lyrics is poor!\n"
     ]
    }
   ],
   "source": [
    "# 6. Write a Python program to find the first appearance of the substring 'not' and 'poor' from a given string, if 'not' \n",
    "#    follows the 'poor', replace the whole 'not'...'poor' substring with 'good'. Return the resulting string.\n",
    "#     Data:\n",
    "#         'The lyrics is not that poor!\n",
    "#         'The lyrics is good!'\n",
    "#     Expected Output:\n",
    "#         The lyrics is poor!\n",
    "#         The lyrics is poor!\n",
    "\n",
    "def not_poor_replace(s):\n",
    "    not_index = s.find('not')\n",
    "    poor_index = s.find('poor')\n",
    "    if not_index != -1 and poor_index != -1 and not_index < poor_index:\n",
    "        return s[:not_index] + 'poor' + s[poor_index+4:]\n",
    "    return s\n",
    "print(not_poor_replace('The lyrics is not that poor!'))  \n",
    "print(not_poor_replace('The lyrics is poor!'))\n",
    "        \n",
    "        \n",
    "        \n",
    "        "
   ]
  },
  {
   "cell_type": "code",
   "execution_count": 15,
   "metadata": {},
   "outputs": [
    {
     "name": "stdout",
     "output_type": "stream",
     "text": [
      "Longest word: Exercises\n",
      "Length of the longest word: 9\n"
     ]
    }
   ],
   "source": [
    "# 7. Write a Python function that takes a list of words and returns the longest word and the length of the longest one.\n",
    "#     Data:\n",
    "#         Longest word: Exercises\n",
    "#     Expected Output:\n",
    "#         Length of the longest word: 9\n",
    "\n",
    "def find_longest_word(words):\n",
    "    longest_word = \"\"\n",
    "    max_length = 0\n",
    "    for word in words:\n",
    "        if len(word) > max_length:\n",
    "            longest_word = word\n",
    "            max_length = len(word)\n",
    "\n",
    "    return longest_word, max_length\n",
    "\n",
    "words_list = [\"Python\", \"Exercises\", \"Longest\", \"Word\"]\n",
    "longest, length = find_longest_word(words_list)\n",
    "print(\"Longest word:\", longest)\n",
    "print(\"Length of the longest word:\", length)\n",
    "            \n",
    "            \n",
    "            \n",
    "            "
   ]
  },
  {
   "cell_type": "code",
   "execution_count": 16,
   "metadata": {},
   "outputs": [
    {
     "name": "stdout",
     "output_type": "stream",
     "text": [
      "{'Read': 1, 'and': 1, 'edit': 1, 'documents': 1, 'attached': 1, 'to': 1, 'emails': 1}\n"
     ]
    }
   ],
   "source": [
    "# 8. Write a Python program to count the occurrences of each word in a given sentence.\n",
    "#     Data:\n",
    "#         'Read and edit documents attached to emails'\n",
    "#     Expected Output:\n",
    "#         {'Read': 1, 'and': 1, 'edit': 1, 'documents': 1, 'attached': 1, 'to': 1, 'emails': 1}\n",
    "\n",
    "sentence = 'Read and edit documents attached to emails'\n",
    "words = sentence.split()\n",
    "word_count = {}\n",
    "for word in words:\n",
    "    if word in word_count:\n",
    "        word_count[word] += 1\n",
    "    else:\n",
    "        word_count[word] = 1\n",
    "\n",
    "print(word_count)\n",
    "        \n",
    "        \n",
    "        \n",
    "        "
   ]
  },
  {
   "cell_type": "code",
   "execution_count": 20,
   "metadata": {},
   "outputs": [
    {
     "name": "stdout",
     "output_type": "stream",
     "text": [
      "Python\n",
      "PYTHON\n"
     ]
    }
   ],
   "source": [
    "# 9. Write a Python function to convert a given string to all uppercase if it contains at least 2 uppercase \n",
    "#    characters in the first 4 characters.\n",
    "#     Data:\n",
    "#         'Python'\n",
    "#         'PyThon'\n",
    "#     Expected Output:\n",
    "#         Python\n",
    "#         PYTHON\n",
    "\n",
    "def convert_if_uppercase(s):\n",
    "    first_four = s[:4]\n",
    "    uppercase_count = sum(1 for c in first_four if c.isupper())\n",
    "    if uppercase_count >= 2:\n",
    "        return s.upper()\n",
    "    else:\n",
    "        return s\n",
    "\n",
    "print(convert_if_uppercase('Python'))   \n",
    "print(convert_if_uppercase('PyThon')) \n",
    "        \n",
    "        \n",
    "        \n",
    "        "
   ]
  },
  {
   "cell_type": "code",
   "execution_count": 21,
   "metadata": {},
   "outputs": [
    {
     "name": "stdout",
     "output_type": "stream",
     "text": [
      "Formatted Number: 3.14\n",
      "Formatted Number: 13.00\n"
     ]
    }
   ],
   "source": [
    "# 10. Write a Python program to print the following floating numbers upto 2 decimal places.\n",
    "#     Data:\n",
    "#         x = 3.1415926\n",
    "#         y = 12.9999\n",
    "#     Expected Output:\n",
    "#         Formatted Number: 3.14\n",
    "#         Formatted Number: 13.00\n",
    "\n",
    "x = 3.1415926\n",
    "y = 12.9999\n",
    "\n",
    "print(\"Formatted Number: {:.2f}\".format(x))\n",
    "print(\"Formatted Number: {:.2f}\".format(y))\n",
    "            \n",
    "            \n",
    "            \n",
    "            "
   ]
  },
  {
   "cell_type": "code",
   "execution_count": 22,
   "metadata": {},
   "outputs": [
    {
     "name": "stdout",
     "output_type": "stream",
     "text": [
      "Formatted Number with sign: +3.14\n",
      "Formatted Number with sign: -13.00\n"
     ]
    }
   ],
   "source": [
    "# 11. Write a Python program to print the following floating numbers upto 2 decimal places with a sign.\n",
    "#     Data:\n",
    "#         x = 3.1415926 \n",
    "#         y = -12.9999\n",
    "#     Expected Output:\n",
    "#         Formatted Number with sign: +3.14\n",
    "#         Formatted Number with sign: -13.00\n",
    "\n",
    "x = 3.1415926\n",
    "y = -12.9999\n",
    "\n",
    "print(\"Formatted Number with sign: {:+.2f}\".format(x))\n",
    "print(\"Formatted Number with sign: {:+.2f}\".format(y))\n",
    "            \n",
    "            \n",
    "            \n",
    "            "
   ]
  },
  {
   "cell_type": "code",
   "execution_count": 23,
   "metadata": {},
   "outputs": [
    {
     "name": "stdout",
     "output_type": "stream",
     "text": [
      "Formatted Number with no decimal places: 3\n",
      "Formatted Number with no decimal places: -13\n"
     ]
    }
   ],
   "source": [
    "# 12. Write a Python program to print the following floating numbers with no decimal places.\n",
    "#     Data:\n",
    "#         x = 3.1415926\n",
    "#         y = -12.9999\n",
    "#     Expected Output:\n",
    "#         Formatted Number with no decimal places: 3\n",
    "#         Formatted Number with no decimal places: -13\n",
    "\n",
    "x = 3.1415926\n",
    "y = -12.9999\n",
    "\n",
    "print(f\"Formatted Number with no decimal places: {x:.0f}\")\n",
    "print(f\"Formatted Number with no decimal places: {y:.0f}\")\n",
    "            \n",
    "            \n",
    "            \n",
    "            "
   ]
  },
  {
   "cell_type": "code",
   "execution_count": 24,
   "metadata": {},
   "outputs": [
    {
     "name": "stdout",
     "output_type": "stream",
     "text": [
      "Formatted Number(left padding, width 2): 03\n",
      "Formatted Number(left padding, width 6): 000123\n"
     ]
    }
   ],
   "source": [
    "# 13. Write a Python program to print the following integers with zeros on the left of specified width.\n",
    "#     Data:\n",
    "#         x = 3\n",
    "#         y = 123\n",
    "#     Expected Output:\n",
    "#         Formatted Number(left padding, width 2): 03\n",
    "#         Formatted Number(left padding, width 6): 000123\n",
    "\n",
    "x = 3\n",
    "y = 123\n",
    "\n",
    "print(\"Formatted Number(left padding, width 2): {:02d}\".format(x))\n",
    "print(\"Formatted Number(left padding, width 6): {:06d}\".format(y))\n",
    "            \n",
    "            \n",
    "            \n",
    "            "
   ]
  },
  {
   "cell_type": "code",
   "execution_count": 25,
   "metadata": {},
   "outputs": [
    {
     "name": "stdout",
     "output_type": "stream",
     "text": [
      "Formatted Number(right padding, width 2): 3*\n",
      "Formatted Number(right padding, width 6): 123***\n"
     ]
    }
   ],
   "source": [
    "# 14. Write a Python program to print the following integers with '*' on the right of specified width.\n",
    "#     Data:\n",
    "#         x = 3\n",
    "#         y = 123\n",
    "#     Expected Output:\n",
    "#         Formatted Number(right padding, width 2):  3*\n",
    "#         Formatted Number(right padding, width 6):  123***\n",
    "\n",
    "x = 3\n",
    "y = 123\n",
    "\n",
    "print(\"Formatted Number(right padding, width 2):\", str(x).ljust(2, '*'))\n",
    "\n",
    "print(\"Formatted Number(right padding, width 6):\", str(y).ljust(6, '*'))\n",
    "            \n",
    "            \n",
    "            \n",
    "            "
   ]
  },
  {
   "cell_type": "code",
   "execution_count": 26,
   "metadata": {},
   "outputs": [
    {
     "name": "stdout",
     "output_type": "stream",
     "text": [
      "Formatted Number with comma separator: 3,000,000\n",
      "Formatted Number with comma separator: 30,000,000\n"
     ]
    }
   ],
   "source": [
    "# 15. Write a Python program to display a number with a comma separator.\n",
    "#     Data:\n",
    "#         x = 3000000\n",
    "#         y = 30000000\n",
    "#     Expected Output:\n",
    "#         Formatted Number with comma separator: 3,000,000\n",
    "#         Formatted Number with comma separator: 30,000,000\n",
    "\n",
    "x = 3000000\n",
    "y = 30000000\n",
    "\n",
    "print(\"Formatted Number with comma separator: {:,}\".format(x))\n",
    "print(\"Formatted Number with comma separator: {:,}\".format(y))\n",
    "            \n",
    "            \n",
    "            \n",
    "            "
   ]
  },
  {
   "cell_type": "code",
   "execution_count": 27,
   "metadata": {},
   "outputs": [
    {
     "name": "stdout",
     "output_type": "stream",
     "text": [
      "Formatted Number with percentage: 25.00%\n",
      "Formatted Number with percentage: -25.00%\n",
      "Formatted Number with percentage: 25.00%\n",
      "Formatted Number with percentage: -25.00%\n"
     ]
    }
   ],
   "source": [
    "# 16. Write a Python program to format a number with a percentage.\n",
    "#     Data:\n",
    "#         x = 0.25\n",
    "#         y = -0.25\n",
    "#     Expected Output:\n",
    "#         Formatted Number with percentage: 25.00%\n",
    "#         Formatted Number with percentage: -25.00%\n",
    "\n",
    "x = 0.25\n",
    "y = -0.25\n",
    "\n",
    "print(\"Formatted Number with percentage: {:.2%}\".format(x))\n",
    "print(\"Formatted Number with percentage: {:.2%}\".format(y))\n",
    "\n",
    "print(f\"Formatted Number with percentage: {x:.2%}\")\n",
    "print(f\"Formatted Number with percentage: {y:.2%}\")\n",
    "            \n",
    "            \n",
    "            \n",
    "            "
   ]
  },
  {
   "cell_type": "code",
   "execution_count": 28,
   "metadata": {},
   "outputs": [
    {
     "name": "stdout",
     "output_type": "stream",
     "text": [
      "emails. to attached documents edit and Read\n",
      "Exercises. Python\n"
     ]
    }
   ],
   "source": [
    "# 17. Write a Python program to reverse words in a string.\n",
    "#     Data:\n",
    "#         \"Read and edit documents attached to emails.\"\n",
    "#         \"Python Exercises.\"\n",
    "#     Expected Output:\n",
    "#         emails. to attached documents edit and Read\n",
    "#         Exercises. Python\n",
    "\n",
    "def reverse_words(sentence):\n",
    "    words = sentence.split()\n",
    "    reversed_words = words[::-1]\n",
    "    return ' '.join(reversed_words)\n",
    "\n",
    "data1 = \"Read and edit documents attached to emails.\"\n",
    "data2 = \"Python Exercises.\"\n",
    "\n",
    "print(reverse_words(data1))  \n",
    "print(reverse_words(data2))\n",
    "        \n",
    "        \n",
    "        \n",
    "        "
   ]
  },
  {
   "cell_type": "code",
   "execution_count": 29,
   "metadata": {},
   "outputs": [
    {
     "name": "stdout",
     "output_type": "stream",
     "text": [
      "After stripping a,e,i,o,u\n",
      "Rd nd dt dcmnts ttchd t mls.\n"
     ]
    }
   ],
   "source": [
    "# 18. Write a Python program to strip vowels from a given string.\n",
    "#     Data:\n",
    "#         Original String:\n",
    "#         \"Read and edit documents attached to emails.\"\n",
    "#     Expected Output:\n",
    "#         After stripping a,e,i,o,u\n",
    "#         Rd nd dt dcmnts ttchd t mls.\n",
    "\n",
    "original_string = \"Read and edit documents attached to emails.\"\n",
    "vowels = \"aeiouAEIOU\"\n",
    "\n",
    "stripped_string = ''.join([char for char in original_string if char not in vowels])\n",
    "\n",
    "print(\"After stripping a,e,i,o,u\")\n",
    "print(stripped_string)\n",
    "        \n",
    "        \n",
    "        \n",
    "        "
   ]
  },
  {
   "cell_type": "code",
   "execution_count": 30,
   "metadata": {},
   "outputs": [
    {
     "name": "stdout",
     "output_type": "stream",
     "text": [
      "o 4\n",
      "e 3\n",
      "t 2\n",
      "h 2\n",
      "u 2\n",
      "r 2\n"
     ]
    }
   ],
   "source": [
    "# 19. Write a Python program to count repeated characters in a string.\n",
    "#     Data:\n",
    "#         string: 'thequickbrownfoxjumpsoverthelazydog'\n",
    "#     Expected Output:\n",
    "#         o 4\n",
    "#         e 3\n",
    "#         t 2\n",
    "#         h 2\n",
    "#         u 2\n",
    "#         r 2\n",
    "\n",
    "string = 'thequickbrownfoxjumpsoverthelazydog'\n",
    "\n",
    "char_count = {}\n",
    "for char in string:\n",
    "    char_count[char] = char_count.get(char, 0) + 1\n",
    "\n",
    "repeated_chars = {char: count for char, count in char_count.items() if count > 1}\n",
    "sorted_repeats = sorted(repeated_chars.items(), key=lambda x: x[1], reverse=True)\n",
    "\n",
    "for char, count in sorted_repeats:\n",
    "    print(f\"{char} {count}\")\n",
    "        \n",
    "        \n",
    "        \n",
    "        "
   ]
  },
  {
   "cell_type": "code",
   "execution_count": 31,
   "metadata": {},
   "outputs": [
    {
     "name": "stdout",
     "output_type": "stream",
     "text": [
      "The area of the rectangle is 1256.66cm²\n",
      "The volume of the cylinder is 1254.725cm³\n"
     ]
    }
   ],
   "source": [
    "# 20. Write a Python program to print the square and cube symbol in the area of a rectangle and volume of a cylinder.\n",
    "#     Data:\n",
    "#         area = 1256.66\n",
    "#         volume = 1254.725\n",
    "#     Expected Output:\n",
    "#         The area of the rectangle is 1256.66cm2\n",
    "#         The volume of the cylinder is 1254.725cm3\n",
    "\n",
    "area = 1256.66\n",
    "volume = 1254.725\n",
    "print(f\"The area of the rectangle is {area}cm\\u00B2\")\n",
    "\n",
    "print(f\"The volume of the cylinder is {volume}cm\\u00B3\")\n",
    "        \n",
    "        \n",
    "        \n",
    "        "
   ]
  }
 ],
 "metadata": {
  "kernelspec": {
   "display_name": "Python 3 (ipykernel)",
   "language": "python",
   "name": "python3"
  },
  "language_info": {
   "codemirror_mode": {
    "name": "ipython",
    "version": 3
   },
   "file_extension": ".py",
   "mimetype": "text/x-python",
   "name": "python",
   "nbconvert_exporter": "python",
   "pygments_lexer": "ipython3",
   "version": "3.12.7"
  }
 },
 "nbformat": 4,
 "nbformat_minor": 4
}
